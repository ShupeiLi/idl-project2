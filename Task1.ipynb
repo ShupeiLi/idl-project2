{
 "cells": [
  {
   "cell_type": "markdown",
   "id": "6be6948e",
   "metadata": {},
   "source": [
    "task1"
   ]
  },
  {
   "cell_type": "code",
   "execution_count": 8,
   "id": "2c0f7af0",
   "metadata": {},
   "outputs": [],
   "source": [
    "from __future__ import print_function\n",
    "import keras\n",
    "import tensorflow as tf\n",
    "from keras.datasets import mnist, fashion_mnist\n",
    "from keras.models import Sequential\n",
    "from keras.layers import Dense, Dropout, Flatten, Input\n",
    "from keras.optimizers import RMSprop\n",
    "from keras.layers import Conv2D, MaxPooling2D\n",
    "from keras import backend as K"
   ]
  },
  {
   "cell_type": "markdown",
   "id": "8bb0cb67",
   "metadata": {},
   "source": [
    "experiment with official repository example mnist_mlp.py"
   ]
  },
  {
   "cell_type": "code",
   "execution_count": 5,
   "id": "5a06e2c5",
   "metadata": {},
   "outputs": [
    {
     "name": "stdout",
     "output_type": "stream",
     "text": [
      "60000 train samples\n",
      "10000 test samples\n",
      "Model: \"sequential_1\"\n",
      "_________________________________________________________________\n",
      " Layer (type)                Output Shape              Param #   \n",
      "=================================================================\n",
      " dense_3 (Dense)             (None, 512)               401920    \n",
      "                                                                 \n",
      " dropout_2 (Dropout)         (None, 512)               0         \n",
      "                                                                 \n",
      " dense_4 (Dense)             (None, 512)               262656    \n",
      "                                                                 \n",
      " dropout_3 (Dropout)         (None, 512)               0         \n",
      "                                                                 \n",
      " dense_5 (Dense)             (None, 10)                5130      \n",
      "                                                                 \n",
      "=================================================================\n",
      "Total params: 669,706\n",
      "Trainable params: 669,706\n",
      "Non-trainable params: 0\n",
      "_________________________________________________________________\n"
     ]
    }
   ],
   "source": [
    "batch_size = 128\n",
    "num_classes = 10\n",
    "epochs = 20\n",
    "\n",
    "# the data, split between train and test sets\n",
    "(x_train, y_train), (x_test, y_test) = mnist.load_data()\n",
    "\n",
    "x_train = x_train.reshape(60000, 784)\n",
    "x_test = x_test.reshape(10000, 784)\n",
    "x_train = x_train.astype('float32')\n",
    "x_test = x_test.astype('float32')\n",
    "x_train /= 255\n",
    "x_test /= 255\n",
    "print(x_train.shape[0], 'train samples')\n",
    "print(x_test.shape[0], 'test samples')\n",
    "\n",
    "# convert class vectors to binary class matrices\n",
    "y_train = keras.utils.to_categorical(y_train, num_classes)\n",
    "y_test = keras.utils.to_categorical(y_test, num_classes)\n",
    "\n",
    "model = Sequential()\n",
    "model.add(Dense(512, activation='relu', input_shape=(784,)))\n",
    "model.add(Dropout(0.2))\n",
    "model.add(Dense(512, activation='relu'))\n",
    "model.add(Dropout(0.2))\n",
    "model.add(Dense(num_classes, activation='softmax'))\n",
    "\n",
    "model.summary()"
   ]
  },
  {
   "cell_type": "code",
   "execution_count": 6,
   "id": "1092c78b",
   "metadata": {},
   "outputs": [],
   "source": [
    "model.compile(loss='categorical_crossentropy',\n",
    "              optimizer=RMSprop(),\n",
    "              metrics=['accuracy'])"
   ]
  },
  {
   "cell_type": "code",
   "execution_count": 7,
   "id": "2ad0a4ea",
   "metadata": {},
   "outputs": [
    {
     "name": "stdout",
     "output_type": "stream",
     "text": [
      "Epoch 1/20\n",
      "469/469 [==============================] - 3s 5ms/step - loss: 0.2481 - accuracy: 0.9237 - val_loss: 0.0998 - val_accuracy: 0.9694\n",
      "Epoch 2/20\n",
      "469/469 [==============================] - 2s 5ms/step - loss: 0.1023 - accuracy: 0.9693 - val_loss: 0.0808 - val_accuracy: 0.9753\n",
      "Epoch 3/20\n",
      "469/469 [==============================] - 2s 5ms/step - loss: 0.0748 - accuracy: 0.9780 - val_loss: 0.0729 - val_accuracy: 0.9781\n",
      "Epoch 4/20\n",
      "469/469 [==============================] - 3s 6ms/step - loss: 0.0599 - accuracy: 0.9816 - val_loss: 0.0804 - val_accuracy: 0.9778\n",
      "Epoch 5/20\n",
      "469/469 [==============================] - 3s 7ms/step - loss: 0.0490 - accuracy: 0.9846 - val_loss: 0.0780 - val_accuracy: 0.9812\n",
      "Epoch 6/20\n",
      "469/469 [==============================] - 3s 6ms/step - loss: 0.0435 - accuracy: 0.9871 - val_loss: 0.0871 - val_accuracy: 0.9807\n",
      "Epoch 7/20\n",
      "469/469 [==============================] - 2s 5ms/step - loss: 0.0374 - accuracy: 0.9889 - val_loss: 0.0788 - val_accuracy: 0.9820\n",
      "Epoch 8/20\n",
      "469/469 [==============================] - 2s 5ms/step - loss: 0.0345 - accuracy: 0.9894 - val_loss: 0.0861 - val_accuracy: 0.9826\n",
      "Epoch 9/20\n",
      "469/469 [==============================] - 3s 5ms/step - loss: 0.0326 - accuracy: 0.9904 - val_loss: 0.0798 - val_accuracy: 0.9849\n",
      "Epoch 10/20\n",
      "469/469 [==============================] - 2s 5ms/step - loss: 0.0291 - accuracy: 0.9915 - val_loss: 0.0905 - val_accuracy: 0.9829\n",
      "Epoch 11/20\n",
      "469/469 [==============================] - 2s 5ms/step - loss: 0.0265 - accuracy: 0.9926 - val_loss: 0.0926 - val_accuracy: 0.9800\n",
      "Epoch 12/20\n",
      "469/469 [==============================] - 2s 5ms/step - loss: 0.0253 - accuracy: 0.9929 - val_loss: 0.0921 - val_accuracy: 0.9818\n",
      "Epoch 13/20\n",
      "469/469 [==============================] - 2s 5ms/step - loss: 0.0244 - accuracy: 0.9931 - val_loss: 0.1132 - val_accuracy: 0.9803\n",
      "Epoch 14/20\n",
      "469/469 [==============================] - 2s 5ms/step - loss: 0.0220 - accuracy: 0.9940 - val_loss: 0.1164 - val_accuracy: 0.9821\n",
      "Epoch 15/20\n",
      "469/469 [==============================] - 2s 5ms/step - loss: 0.0242 - accuracy: 0.9935 - val_loss: 0.1247 - val_accuracy: 0.9795\n",
      "Epoch 16/20\n",
      "469/469 [==============================] - 2s 5ms/step - loss: 0.0213 - accuracy: 0.9941 - val_loss: 0.1071 - val_accuracy: 0.9831\n",
      "Epoch 17/20\n",
      "469/469 [==============================] - 2s 5ms/step - loss: 0.0188 - accuracy: 0.9950 - val_loss: 0.1342 - val_accuracy: 0.9828\n",
      "Epoch 18/20\n",
      "469/469 [==============================] - 2s 5ms/step - loss: 0.0201 - accuracy: 0.9950 - val_loss: 0.1206 - val_accuracy: 0.9844\n",
      "Epoch 19/20\n",
      "469/469 [==============================] - 2s 5ms/step - loss: 0.0181 - accuracy: 0.9953 - val_loss: 0.1280 - val_accuracy: 0.9827\n",
      "Epoch 20/20\n",
      "469/469 [==============================] - 2s 5ms/step - loss: 0.0178 - accuracy: 0.9950 - val_loss: 0.1246 - val_accuracy: 0.9831\n",
      "Test loss: 0.12456625699996948\n",
      "Test accuracy: 0.9830999970436096\n"
     ]
    }
   ],
   "source": [
    "history = model.fit(x_train, y_train,\n",
    "                    batch_size=batch_size,\n",
    "                    epochs=epochs,\n",
    "                    verbose=1,\n",
    "                    validation_data=(x_test, y_test))\n",
    "score = model.evaluate(x_test, y_test, verbose=0)\n",
    "print('Test loss:', score[0])\n",
    "print('Test accuracy:', score[1])"
   ]
  },
  {
   "cell_type": "markdown",
   "id": "1a488112",
   "metadata": {},
   "source": [
    "experiment with official repository example mnist_cnn.py"
   ]
  },
  {
   "cell_type": "code",
   "execution_count": 2,
   "id": "8da9066e",
   "metadata": {},
   "outputs": [
    {
     "name": "stdout",
     "output_type": "stream",
     "text": [
      "x_train shape: (60000, 28, 28, 1)\n",
      "60000 train samples\n",
      "10000 test samples\n",
      "Model: \"sequential_1\"\n",
      "_________________________________________________________________\n",
      " Layer (type)                Output Shape              Param #   \n",
      "=================================================================\n",
      " conv2d_2 (Conv2D)           (None, 26, 26, 32)        320       \n",
      "                                                                 \n",
      " conv2d_3 (Conv2D)           (None, 24, 24, 64)        18496     \n",
      "                                                                 \n",
      " max_pooling2d_1 (MaxPooling  (None, 12, 12, 64)       0         \n",
      " 2D)                                                             \n",
      "                                                                 \n",
      " dropout_2 (Dropout)         (None, 12, 12, 64)        0         \n",
      "                                                                 \n",
      " flatten_1 (Flatten)         (None, 9216)              0         \n",
      "                                                                 \n",
      " dense_2 (Dense)             (None, 128)               1179776   \n",
      "                                                                 \n",
      " dropout_3 (Dropout)         (None, 128)               0         \n",
      "                                                                 \n",
      " dense_3 (Dense)             (None, 10)                1290      \n",
      "                                                                 \n",
      "=================================================================\n",
      "Total params: 1,199,882\n",
      "Trainable params: 1,199,882\n",
      "Non-trainable params: 0\n",
      "_________________________________________________________________\n"
     ]
    }
   ],
   "source": [
    "batch_size = 128\n",
    "num_classes = 10\n",
    "epochs = 12\n",
    "\n",
    "# input image dimensions\n",
    "img_rows, img_cols = 28, 28\n",
    "\n",
    "# the data, split between train and test sets\n",
    "(x_train, y_train), (x_test, y_test) = mnist.load_data()\n",
    "\n",
    "if K.image_data_format() == 'channels_first':\n",
    "    x_train = x_train.reshape(x_train.shape[0], 1, img_rows, img_cols)\n",
    "    x_test = x_test.reshape(x_test.shape[0], 1, img_rows, img_cols)\n",
    "    input_shape = (1, img_rows, img_cols)\n",
    "else:\n",
    "    x_train = x_train.reshape(x_train.shape[0], img_rows, img_cols, 1)\n",
    "    x_test = x_test.reshape(x_test.shape[0], img_rows, img_cols, 1)\n",
    "    input_shape = (img_rows, img_cols, 1)\n",
    "\n",
    "x_train = x_train.astype('float32')\n",
    "x_test = x_test.astype('float32')\n",
    "x_train /= 255\n",
    "x_test /= 255\n",
    "print('x_train shape:', x_train.shape)\n",
    "print(x_train.shape[0], 'train samples')\n",
    "print(x_test.shape[0], 'test samples')\n",
    "\n",
    "# convert class vectors to binary class matrices\n",
    "y_train = keras.utils.to_categorical(y_train, num_classes)\n",
    "y_test = keras.utils.to_categorical(y_test, num_classes)\n",
    "\n",
    "model = Sequential()\n",
    "model.add(Conv2D(32, kernel_size=(3, 3),\n",
    "                 activation='relu',\n",
    "                 input_shape=input_shape))\n",
    "model.add(Conv2D(64, (3, 3), activation='relu'))\n",
    "model.add(MaxPooling2D(pool_size=(2, 2)))\n",
    "model.add(Dropout(0.25))\n",
    "model.add(Flatten())\n",
    "model.add(Dense(128, activation='relu'))\n",
    "model.add(Dropout(0.5))\n",
    "model.add(Dense(num_classes, activation='softmax'))\n",
    "\n",
    "model.summary()"
   ]
  },
  {
   "cell_type": "code",
   "execution_count": 3,
   "id": "6462db3f",
   "metadata": {},
   "outputs": [],
   "source": [
    "model.compile(loss=keras.losses.categorical_crossentropy,\n",
    "              optimizer=keras.optimizers.Adadelta(),\n",
    "              metrics=['accuracy'])"
   ]
  },
  {
   "cell_type": "code",
   "execution_count": 6,
   "id": "892bc9dc",
   "metadata": {},
   "outputs": [
    {
     "name": "stdout",
     "output_type": "stream",
     "text": [
      "Epoch 1/12\n",
      "469/469 [==============================] - 2s 5ms/step - loss: 0.5849 - accuracy: 0.8235 - val_loss: 0.3947 - val_accuracy: 0.8941\n",
      "Epoch 2/12\n",
      "469/469 [==============================] - 2s 5ms/step - loss: 0.5725 - accuracy: 0.8276 - val_loss: 0.3868 - val_accuracy: 0.8965\n",
      "Epoch 3/12\n",
      "469/469 [==============================] - 2s 5ms/step - loss: 0.5652 - accuracy: 0.8278 - val_loss: 0.3794 - val_accuracy: 0.8974\n",
      "Epoch 4/12\n",
      "469/469 [==============================] - 2s 5ms/step - loss: 0.5536 - accuracy: 0.8321 - val_loss: 0.3720 - val_accuracy: 0.8988\n",
      "Epoch 5/12\n",
      "469/469 [==============================] - 2s 5ms/step - loss: 0.5422 - accuracy: 0.8369 - val_loss: 0.3660 - val_accuracy: 0.9002\n",
      "Epoch 6/12\n",
      "469/469 [==============================] - 2s 5ms/step - loss: 0.5385 - accuracy: 0.8367 - val_loss: 0.3601 - val_accuracy: 0.9018\n",
      "Epoch 7/12\n",
      "469/469 [==============================] - 2s 5ms/step - loss: 0.5322 - accuracy: 0.8391 - val_loss: 0.3546 - val_accuracy: 0.9032\n",
      "Epoch 8/12\n",
      "469/469 [==============================] - 2s 5ms/step - loss: 0.5237 - accuracy: 0.8430 - val_loss: 0.3491 - val_accuracy: 0.9033\n",
      "Epoch 9/12\n",
      "469/469 [==============================] - 2s 5ms/step - loss: 0.5161 - accuracy: 0.8437 - val_loss: 0.3440 - val_accuracy: 0.9046\n",
      "Epoch 10/12\n",
      "469/469 [==============================] - 2s 5ms/step - loss: 0.5111 - accuracy: 0.8464 - val_loss: 0.3394 - val_accuracy: 0.9052\n",
      "Epoch 11/12\n",
      "469/469 [==============================] - 2s 5ms/step - loss: 0.5043 - accuracy: 0.8471 - val_loss: 0.3349 - val_accuracy: 0.9055\n",
      "Epoch 12/12\n",
      "469/469 [==============================] - 2s 5ms/step - loss: 0.4961 - accuracy: 0.8502 - val_loss: 0.3308 - val_accuracy: 0.9059\n",
      "Test loss: 0.3308142423629761\n",
      "Test accuracy: 0.9059000015258789\n"
     ]
    }
   ],
   "source": [
    "model.fit(x_train, y_train,\n",
    "          batch_size=batch_size,\n",
    "          epochs=epochs,\n",
    "          verbose=1,\n",
    "          validation_data=(x_test, y_test))\n",
    "score = model.evaluate(x_test, y_test, verbose=0)\n",
    "print('Test loss:', score[0])\n",
    "print('Test accuracy:', score[1])"
   ]
  },
  {
   "cell_type": "markdown",
   "id": "acbad055",
   "metadata": {},
   "source": [
    "Fashion_minist_MLP"
   ]
  },
  {
   "cell_type": "code",
   "execution_count": 4,
   "id": "88785311",
   "metadata": {},
   "outputs": [
    {
     "name": "stdout",
     "output_type": "stream",
     "text": [
      "Downloading data from https://storage.googleapis.com/tensorflow/tf-keras-datasets/train-labels-idx1-ubyte.gz\n",
      "29515/29515 [==============================] - 0s 1us/step\n",
      "Downloading data from https://storage.googleapis.com/tensorflow/tf-keras-datasets/train-images-idx3-ubyte.gz\n",
      "26421880/26421880 [==============================] - 2s 0us/step\n",
      "Downloading data from https://storage.googleapis.com/tensorflow/tf-keras-datasets/t10k-labels-idx1-ubyte.gz\n",
      "5148/5148 [==============================] - 0s 0s/step\n",
      "Downloading data from https://storage.googleapis.com/tensorflow/tf-keras-datasets/t10k-images-idx3-ubyte.gz\n",
      "4422102/4422102 [==============================] - 0s 0us/step\n",
      "60000 train samples\n",
      "10000 test samples\n"
     ]
    }
   ],
   "source": [
    "batch_size = 128\n",
    "num_classes = 10\n",
    "epochs = 30\n",
    "\n",
    "# the data, split between train and test sets\n",
    "(x_train, y_train), (x_test, y_test) = fashion_mnist.load_data()\n",
    "\n",
    "x_train = x_train.reshape(60000, 784)\n",
    "x_test = x_test.reshape(10000, 784)\n",
    "x_train = x_train.astype('float32')\n",
    "x_test = x_test.astype('float32')\n",
    "x_train /= 255\n",
    "x_test /= 255\n",
    "print(x_train.shape[0], 'train samples')\n",
    "print(x_test.shape[0], 'test samples')\n",
    "\n",
    "# convert class vectors to binary class matrices\n",
    "y_train = keras.utils.to_categorical(y_train, num_classes)\n",
    "y_test = keras.utils.to_categorical(y_test, num_classes)"
   ]
  },
  {
   "cell_type": "markdown",
   "id": "17422a87",
   "metadata": {},
   "source": [
    "Baseline"
   ]
  },
  {
   "cell_type": "code",
   "execution_count": 6,
   "id": "0dbbe6f4",
   "metadata": {},
   "outputs": [
    {
     "name": "stdout",
     "output_type": "stream",
     "text": [
      "Model: \"sequential_1\"\n",
      "_________________________________________________________________\n",
      " Layer (type)                Output Shape              Param #   \n",
      "=================================================================\n",
      " dense_3 (Dense)             (None, 512)               401920    \n",
      "                                                                 \n",
      " dense_4 (Dense)             (None, 512)               262656    \n",
      "                                                                 \n",
      " dense_5 (Dense)             (None, 10)                5130      \n",
      "                                                                 \n",
      "=================================================================\n",
      "Total params: 669,706\n",
      "Trainable params: 669,706\n",
      "Non-trainable params: 0\n",
      "_________________________________________________________________\n"
     ]
    }
   ],
   "source": [
    "model = keras.models.Sequential()\n",
    "model.add(keras.layers.Dense(300, activation=\"relu\"))\n",
    "model.add(keras.layers.Dense(100, activation=\"relu\"))\n",
    "model.add(keras.layers.Dense(10, activation=\"softmax\"))\n",
    "model.summary()"
   ]
  },
  {
   "cell_type": "code",
   "execution_count": 7,
   "id": "e465aa3b",
   "metadata": {},
   "outputs": [],
   "source": [
    "model.compile(loss='categorical_crossentropy',\n",
    "              optimizer=RMSprop(),\n",
    "              metrics=['accuracy'])"
   ]
  },
  {
   "cell_type": "code",
   "execution_count": 8,
   "id": "dd894f45",
   "metadata": {},
   "outputs": [
    {
     "name": "stdout",
     "output_type": "stream",
     "text": [
      "Epoch 1/20\n",
      "469/469 [==============================] - 3s 3ms/step - loss: 0.5367 - accuracy: 0.8050 - val_loss: 0.4803 - val_accuracy: 0.8301\n",
      "Epoch 2/20\n",
      "469/469 [==============================] - 1s 2ms/step - loss: 0.3760 - accuracy: 0.8617 - val_loss: 0.3915 - val_accuracy: 0.8588\n",
      "Epoch 3/20\n",
      "469/469 [==============================] - 1s 2ms/step - loss: 0.3360 - accuracy: 0.8758 - val_loss: 0.3645 - val_accuracy: 0.8660\n",
      "Epoch 4/20\n",
      "469/469 [==============================] - 1s 2ms/step - loss: 0.3106 - accuracy: 0.8862 - val_loss: 0.3948 - val_accuracy: 0.8587\n",
      "Epoch 5/20\n",
      "469/469 [==============================] - 1s 2ms/step - loss: 0.2923 - accuracy: 0.8924 - val_loss: 0.4058 - val_accuracy: 0.8633\n",
      "Epoch 6/20\n",
      "469/469 [==============================] - 1s 2ms/step - loss: 0.2787 - accuracy: 0.8965 - val_loss: 0.4557 - val_accuracy: 0.8593\n",
      "Epoch 7/20\n",
      "469/469 [==============================] - 1s 2ms/step - loss: 0.2689 - accuracy: 0.8993 - val_loss: 0.4203 - val_accuracy: 0.8700\n",
      "Epoch 8/20\n",
      "469/469 [==============================] - 1s 2ms/step - loss: 0.2576 - accuracy: 0.9040 - val_loss: 0.3734 - val_accuracy: 0.8839\n",
      "Epoch 9/20\n",
      "469/469 [==============================] - 1s 2ms/step - loss: 0.2512 - accuracy: 0.9074 - val_loss: 0.4200 - val_accuracy: 0.8816\n",
      "Epoch 10/20\n",
      "469/469 [==============================] - 1s 2ms/step - loss: 0.2429 - accuracy: 0.9108 - val_loss: 0.4331 - val_accuracy: 0.8749\n",
      "Epoch 11/20\n",
      "469/469 [==============================] - 1s 2ms/step - loss: 0.2369 - accuracy: 0.9127 - val_loss: 0.4338 - val_accuracy: 0.8790\n",
      "Epoch 12/20\n",
      "469/469 [==============================] - 1s 2ms/step - loss: 0.2337 - accuracy: 0.9143 - val_loss: 0.4386 - val_accuracy: 0.8786\n",
      "Epoch 13/20\n",
      "469/469 [==============================] - 1s 2ms/step - loss: 0.2254 - accuracy: 0.9163 - val_loss: 0.5408 - val_accuracy: 0.8673\n",
      "Epoch 14/20\n",
      "469/469 [==============================] - 1s 2ms/step - loss: 0.2204 - accuracy: 0.9184 - val_loss: 0.4478 - val_accuracy: 0.8879\n",
      "Epoch 15/20\n",
      "469/469 [==============================] - 1s 2ms/step - loss: 0.2179 - accuracy: 0.9203 - val_loss: 0.4722 - val_accuracy: 0.8866\n",
      "Epoch 16/20\n",
      "469/469 [==============================] - 1s 2ms/step - loss: 0.2165 - accuracy: 0.9208 - val_loss: 0.3954 - val_accuracy: 0.8892\n",
      "Epoch 17/20\n",
      "469/469 [==============================] - 1s 3ms/step - loss: 0.2092 - accuracy: 0.9230 - val_loss: 0.4931 - val_accuracy: 0.8716\n",
      "Epoch 18/20\n",
      "469/469 [==============================] - 1s 2ms/step - loss: 0.2084 - accuracy: 0.9253 - val_loss: 0.4511 - val_accuracy: 0.8865\n",
      "Epoch 19/20\n",
      "469/469 [==============================] - 1s 2ms/step - loss: 0.2036 - accuracy: 0.9261 - val_loss: 0.4986 - val_accuracy: 0.8919\n",
      "Epoch 20/20\n",
      "469/469 [==============================] - 1s 2ms/step - loss: 0.1991 - accuracy: 0.9286 - val_loss: 0.5326 - val_accuracy: 0.8855\n",
      "Test loss: 0.532582700252533\n",
      "Test accuracy: 0.8853999972343445\n"
     ]
    }
   ],
   "source": [
    "history = model.fit(x_train, y_train,\n",
    "                    batch_size=batch_size,\n",
    "                    epochs=epochs,\n",
    "                    verbose=1,\n",
    "                    validation_data=(x_test, y_test))\n",
    "score = model.evaluate(x_test, y_test, verbose=0)\n",
    "print('Test loss:', score[0])\n",
    "print('Test accuracy:', score[1])"
   ]
  },
  {
   "cell_type": "markdown",
   "id": "5f7b07f1",
   "metadata": {},
   "source": [
    "Modify model architecture"
   ]
  },
  {
   "cell_type": "code",
   "execution_count": null,
   "id": "cafc2c90",
   "metadata": {},
   "outputs": [],
   "source": [
    "arg_dict = {0: (300, \"relu\", \"glorot_uniform\"， None), \n",
    "            1: (100, \"relu\", \"glorot_uniform\"， None),\n",
    "            2: (10, \"softmax\", \"glorot_uniform\"， None),\n",
    "           }\n",
    "\n",
    "def mlp_models(num_layer=3, arg_dict=arg_dict, dropout=False, dropout_lst=[], optimizer=RMSprop()， batch=128):\n",
    "    model = keras.models.Sequential()\n",
    "    for i in range(num_layers):\n",
    "        model.add(keras.layers.Dense(arg_dict[i][0], \n",
    "                                     activation=arg_dict[i][1], \n",
    "                                     kernel_initializer=arg_dict[i][2], \n",
    "                                     kernel_regularizer=arg_dict[i][3]))\n",
    "    model.compile(loss='categorical_crossentropy',\n",
    "                  optimizer=optimizer,\n",
    "                  metrics=['accuracy'])   \n",
    "    \n",
    "    model_checkpoint_callback = tf.keras.callbacks.ModelCheckpoint(\n",
    "        filepath=\"./temp.hdf5\",\n",
    "        save_weights_only=True,\n",
    "        monitor='val_accuracy',\n",
    "        mode='max',\n",
    "        save_best_only=True)\n",
    "    \n",
    "    early_callback = tf.keras.callbacks.EarlyStopping(monitor=\"val_loss\", patience=3)\n",
    "    \n",
    "    history = model.fit(x_train, y_train,\n",
    "                    batch_size=batch,\n",
    "                    epochs=50,\n",
    "                    verbose=0,\n",
    "                    validation_split=0.2,\n",
    "                    callbacks=[model_checkpoint_callback, early_callback])\n",
    "    model.load_weights(\"./temp.hdf5\")\n",
    "    score = model.evaluate(x_test, y_test, verbose=0)\n",
    "    return history.history, score\n",
    "\n",
    "history, score = mlp_models()"
   ]
  },
  {
   "cell_type": "markdown",
   "id": "1fccaa91",
   "metadata": {},
   "source": [
    "Fashion_minist_CNN"
   ]
  },
  {
   "cell_type": "code",
   "execution_count": 1,
   "id": "aea7a3b1",
   "metadata": {},
   "outputs": [
    {
     "name": "stdout",
     "output_type": "stream",
     "text": [
      "x_train shape: (60000, 28, 28, 1)\n",
      "60000 train samples\n",
      "10000 test samples\n"
     ]
    }
   ],
   "source": [
    "\n",
    "batch_size = 128\n",
    "num_classes = 10\n",
    "epochs = 30\n",
    "\n",
    "# input image dimensions\n",
    "img_rows, img_cols = 28, 28\n",
    "\n",
    "# the data, split between train and test sets\n",
    "(x_train, y_train), (x_test, y_test) = fashion_mnist.load_data()\n",
    "\n",
    "if K.image_data_format() == 'channels_first':\n",
    "    x_train = x_train.reshape(x_train.shape[0], 1, img_rows, img_cols)\n",
    "    x_test = x_test.reshape(x_test.shape[0], 1, img_rows, img_cols)\n",
    "    input_shape = (1, img_rows, img_cols)\n",
    "else:\n",
    "    x_train = x_train.reshape(x_train.shape[0], img_rows, img_cols, 1)\n",
    "    x_test = x_test.reshape(x_test.shape[0], img_rows, img_cols, 1)\n",
    "    input_shape = (img_rows, img_cols, 1)\n",
    "\n",
    "x_train = x_train.astype('float32')\n",
    "x_test = x_test.astype('float32')\n",
    "x_train /= 255\n",
    "x_test /= 255\n",
    "print('x_train shape:', x_train.shape)\n",
    "print(x_train.shape[0], 'train samples')\n",
    "print(x_test.shape[0], 'test samples')\n",
    "\n",
    "# convert class vectors to binary class matrices\n",
    "y_train = keras.utils.to_categorical(y_train, num_classes)\n",
    "y_test = keras.utils.to_categorical(y_test, num_classes)"
   ]
  },
  {
   "cell_type": "code",
   "execution_count": 2,
   "id": "16f6e6ea",
   "metadata": {},
   "outputs": [],
   "source": [
    "model = keras.models.Sequential([ keras.layers.Conv2D(64, 7, activation=\"relu\", padding=\"same\", input_shape=[28, 28, 1]),\n",
    "  keras.layers.MaxPooling2D(2),\n",
    "  keras.layers.Conv2D(128, 3, activation=\"relu\", padding=\"same\"),\n",
    "  keras.layers.Conv2D(128, 3, activation=\"relu\", padding=\"same\"), \n",
    "  keras.layers.MaxPooling2D(2), \n",
    "  keras.layers.Conv2D(256, 3, activation=\"relu\", padding=\"same\"), \n",
    "  keras.layers.Conv2D(256, 3, activation=\"relu\", padding=\"same\"), \n",
    "  keras.layers.MaxPooling2D(2), keras.layers.Flatten(),\n",
    "  keras.layers.Dense(128, activation=\"relu\"), \n",
    "  keras.layers.Dropout(0.5), \n",
    "  keras.layers.Dense(64, activation=\"relu\"), \n",
    "  keras.layers.Dropout(0.5),\n",
    "  keras.layers.Dense(10, activation=\"softmax\") ])"
   ]
  },
  {
   "cell_type": "code",
   "execution_count": 3,
   "id": "f817a079",
   "metadata": {},
   "outputs": [
    {
     "name": "stdout",
     "output_type": "stream",
     "text": [
      "Model: \"sequential\"\n",
      "_________________________________________________________________\n",
      " Layer (type)                Output Shape              Param #   \n",
      "=================================================================\n",
      " conv2d (Conv2D)             (None, 28, 28, 64)        3200      \n",
      "                                                                 \n",
      " max_pooling2d (MaxPooling2D  (None, 14, 14, 64)       0         \n",
      " )                                                               \n",
      "                                                                 \n",
      " conv2d_1 (Conv2D)           (None, 14, 14, 128)       73856     \n",
      "                                                                 \n",
      " conv2d_2 (Conv2D)           (None, 14, 14, 128)       147584    \n",
      "                                                                 \n",
      " max_pooling2d_1 (MaxPooling  (None, 7, 7, 128)        0         \n",
      " 2D)                                                             \n",
      "                                                                 \n",
      " conv2d_3 (Conv2D)           (None, 7, 7, 256)         295168    \n",
      "                                                                 \n",
      " conv2d_4 (Conv2D)           (None, 7, 7, 256)         590080    \n",
      "                                                                 \n",
      " max_pooling2d_2 (MaxPooling  (None, 3, 3, 256)        0         \n",
      " 2D)                                                             \n",
      "                                                                 \n",
      " flatten (Flatten)           (None, 2304)              0         \n",
      "                                                                 \n",
      " dense (Dense)               (None, 128)               295040    \n",
      "                                                                 \n",
      " dropout (Dropout)           (None, 128)               0         \n",
      "                                                                 \n",
      " dense_1 (Dense)             (None, 64)                8256      \n",
      "                                                                 \n",
      " dropout_1 (Dropout)         (None, 64)                0         \n",
      "                                                                 \n",
      " dense_2 (Dense)             (None, 10)                650       \n",
      "                                                                 \n",
      "=================================================================\n",
      "Total params: 1,413,834\n",
      "Trainable params: 1,413,834\n",
      "Non-trainable params: 0\n",
      "_________________________________________________________________\n"
     ]
    }
   ],
   "source": [
    "model.summary()"
   ]
  },
  {
   "cell_type": "code",
   "execution_count": 4,
   "id": "366ef37d",
   "metadata": {},
   "outputs": [],
   "source": [
    "model.compile(loss='categorical_crossentropy',\n",
    "              optimizer=RMSprop(),\n",
    "              metrics=['accuracy'])"
   ]
  },
  {
   "cell_type": "code",
   "execution_count": 5,
   "id": "037fa8de",
   "metadata": {},
   "outputs": [
    {
     "name": "stdout",
     "output_type": "stream",
     "text": [
      "Epoch 1/12\n",
      "469/469 [==============================] - 10s 13ms/step - loss: 0.8695 - accuracy: 0.6895 - val_loss: 0.4164 - val_accuracy: 0.8529\n",
      "Epoch 2/12\n",
      "469/469 [==============================] - 6s 12ms/step - loss: 0.4209 - accuracy: 0.8580 - val_loss: 0.3533 - val_accuracy: 0.8683\n",
      "Epoch 3/12\n",
      "469/469 [==============================] - 6s 12ms/step - loss: 0.3449 - accuracy: 0.8856 - val_loss: 0.3263 - val_accuracy: 0.8851\n",
      "Epoch 4/12\n",
      "469/469 [==============================] - 6s 12ms/step - loss: 0.3076 - accuracy: 0.8971 - val_loss: 0.2974 - val_accuracy: 0.8972\n",
      "Epoch 5/12\n",
      "469/469 [==============================] - 6s 12ms/step - loss: 0.2813 - accuracy: 0.9061 - val_loss: 0.2828 - val_accuracy: 0.9050\n",
      "Epoch 6/12\n",
      "469/469 [==============================] - 6s 12ms/step - loss: 0.2687 - accuracy: 0.9118 - val_loss: 0.3483 - val_accuracy: 0.9064\n",
      "Epoch 7/12\n",
      "469/469 [==============================] - 6s 12ms/step - loss: 0.2632 - accuracy: 0.9139 - val_loss: 0.2917 - val_accuracy: 0.9011\n",
      "Epoch 8/12\n",
      "469/469 [==============================] - 6s 12ms/step - loss: 0.2640 - accuracy: 0.9157 - val_loss: 0.3358 - val_accuracy: 0.9041\n",
      "Epoch 9/12\n",
      "469/469 [==============================] - 6s 13ms/step - loss: 0.2671 - accuracy: 0.9140 - val_loss: 0.3595 - val_accuracy: 0.8894\n",
      "Epoch 10/12\n",
      "469/469 [==============================] - 6s 12ms/step - loss: 0.2678 - accuracy: 0.9124 - val_loss: 0.2737 - val_accuracy: 0.9098\n",
      "Epoch 11/12\n",
      "469/469 [==============================] - 6s 12ms/step - loss: 0.2677 - accuracy: 0.9121 - val_loss: 0.3118 - val_accuracy: 0.8976\n",
      "Epoch 12/12\n",
      "469/469 [==============================] - 6s 12ms/step - loss: 0.2671 - accuracy: 0.9140 - val_loss: 0.4957 - val_accuracy: 0.9067\n",
      "Test loss: 0.49565425515174866\n",
      "Test accuracy: 0.9067000150680542\n"
     ]
    }
   ],
   "source": [
    "history = model.fit(x_train, y_train,\n",
    "                    batch_size=batch_size,\n",
    "                    epochs=epochs,\n",
    "                    verbose=1,\n",
    "                    validation_data=(x_test, y_test))\n",
    "score = model.evaluate(x_test, y_test, verbose=0)\n",
    "print('Test loss:', score[0])\n",
    "print('Test accuracy:', score[1])"
   ]
  },
  {
   "cell_type": "code",
   "execution_count": null,
   "id": "832021be",
   "metadata": {},
   "outputs": [],
   "source": []
  },
  {
   "cell_type": "markdown",
   "id": "f3bef70b",
   "metadata": {},
   "source": [
    "CIFAR-10_MLP"
   ]
  },
  {
   "cell_type": "code",
   "execution_count": 31,
   "id": "3710ca06",
   "metadata": {},
   "outputs": [],
   "source": [
    "from __future__ import print_function\n",
    "\n",
    "import keras\n",
    "from keras.datasets import cifar10\n",
    "from keras.models import Sequential\n",
    "from keras.layers import Dense, Dropout\n",
    "from keras.optimizers import RMSprop\n",
    "\n",
    "batch_size = 128\n",
    "num_classes = 10\n",
    "epochs = 30\n",
    "\n",
    "# the data, split between train and test sets\n",
    "(x_train, y_train), (x_test, y_test) = cifar10.load_data()"
   ]
  },
  {
   "cell_type": "code",
   "execution_count": 32,
   "id": "1b6487d8",
   "metadata": {},
   "outputs": [
    {
     "name": "stdout",
     "output_type": "stream",
     "text": [
      "50000 train samples\n",
      "10000 test samples\n"
     ]
    }
   ],
   "source": [
    "x_train = x_train.reshape(50000, -1)\n",
    "x_test = x_test.reshape(10000, -1)\n",
    "x_train = x_train.astype('float32')\n",
    "x_test = x_test.astype('float32')\n",
    "x_train /= 255\n",
    "x_test /= 255\n",
    "print(x_train.shape[0], 'train samples')\n",
    "print(x_test.shape[0], 'test samples')\n",
    "\n",
    "# convert class vectors to binary class matrices\n",
    "y_train = keras.utils.to_categorical(y_train, num_classes)\n",
    "y_test = keras.utils.to_categorical(y_test, num_classes)"
   ]
  },
  {
   "cell_type": "code",
   "execution_count": 33,
   "id": "f0f3244e",
   "metadata": {},
   "outputs": [],
   "source": [
    "model = keras.models.Sequential()\n",
    "model.add(keras.layers.Flatten(input_shape=[3072,]))\n",
    "model.add(keras.layers.Dense(300, activation=\"relu\"))\n",
    "model.add(keras.layers.Dense(100, activation=\"relu\"))\n",
    "model.add(keras.layers.Dense(10, activation=\"softmax\"))"
   ]
  },
  {
   "cell_type": "code",
   "execution_count": 34,
   "id": "0751d4d5",
   "metadata": {},
   "outputs": [
    {
     "name": "stdout",
     "output_type": "stream",
     "text": [
      "Model: \"sequential_5\"\n",
      "_________________________________________________________________\n",
      " Layer (type)                Output Shape              Param #   \n",
      "=================================================================\n",
      " flatten_5 (Flatten)         (None, 3072)              0         \n",
      "                                                                 \n",
      " dense_12 (Dense)            (None, 300)               921900    \n",
      "                                                                 \n",
      " dense_13 (Dense)            (None, 100)               30100     \n",
      "                                                                 \n",
      " dense_14 (Dense)            (None, 10)                1010      \n",
      "                                                                 \n",
      "=================================================================\n",
      "Total params: 953,010\n",
      "Trainable params: 953,010\n",
      "Non-trainable params: 0\n",
      "_________________________________________________________________\n"
     ]
    }
   ],
   "source": [
    "model.summary()"
   ]
  },
  {
   "cell_type": "code",
   "execution_count": 35,
   "id": "a0c6f345",
   "metadata": {},
   "outputs": [],
   "source": [
    "model.compile(loss='categorical_crossentropy',\n",
    "              optimizer=RMSprop(),\n",
    "              metrics=['accuracy'])"
   ]
  },
  {
   "cell_type": "code",
   "execution_count": 36,
   "id": "6a91a515",
   "metadata": {},
   "outputs": [
    {
     "name": "stdout",
     "output_type": "stream",
     "text": [
      "Epoch 1/40\n",
      "391/391 [==============================] - 1s 3ms/step - loss: 2.1342 - accuracy: 0.2573 - val_loss: 1.8941 - val_accuracy: 0.3188\n",
      "Epoch 2/40\n",
      "391/391 [==============================] - 1s 3ms/step - loss: 1.8008 - accuracy: 0.3531 - val_loss: 1.7136 - val_accuracy: 0.3869\n",
      "Epoch 3/40\n",
      "391/391 [==============================] - 1s 3ms/step - loss: 1.7124 - accuracy: 0.3871 - val_loss: 1.7552 - val_accuracy: 0.3721\n",
      "Epoch 4/40\n",
      "391/391 [==============================] - 1s 3ms/step - loss: 1.6501 - accuracy: 0.4119 - val_loss: 1.6390 - val_accuracy: 0.4222\n",
      "Epoch 5/40\n",
      "391/391 [==============================] - 1s 3ms/step - loss: 1.5990 - accuracy: 0.4312 - val_loss: 1.6015 - val_accuracy: 0.4265\n",
      "Epoch 6/40\n",
      "391/391 [==============================] - 1s 3ms/step - loss: 1.5624 - accuracy: 0.4469 - val_loss: 1.5561 - val_accuracy: 0.4377\n",
      "Epoch 7/40\n",
      "391/391 [==============================] - 1s 3ms/step - loss: 1.5306 - accuracy: 0.4560 - val_loss: 1.6294 - val_accuracy: 0.4338\n",
      "Epoch 8/40\n",
      "391/391 [==============================] - 1s 3ms/step - loss: 1.5044 - accuracy: 0.4638 - val_loss: 1.5199 - val_accuracy: 0.4600\n",
      "Epoch 9/40\n",
      "391/391 [==============================] - 1s 3ms/step - loss: 1.4794 - accuracy: 0.4715 - val_loss: 1.5267 - val_accuracy: 0.4532\n",
      "Epoch 10/40\n",
      "391/391 [==============================] - 1s 3ms/step - loss: 1.4609 - accuracy: 0.4814 - val_loss: 1.6377 - val_accuracy: 0.4219\n",
      "Epoch 11/40\n",
      "391/391 [==============================] - 1s 3ms/step - loss: 1.4349 - accuracy: 0.4908 - val_loss: 1.5153 - val_accuracy: 0.4605\n",
      "Epoch 12/40\n",
      "391/391 [==============================] - 1s 3ms/step - loss: 1.4170 - accuracy: 0.4965 - val_loss: 1.5974 - val_accuracy: 0.4371\n",
      "Epoch 13/40\n",
      "391/391 [==============================] - 1s 3ms/step - loss: 1.4014 - accuracy: 0.5056 - val_loss: 1.5366 - val_accuracy: 0.4544\n",
      "Epoch 14/40\n",
      "391/391 [==============================] - 1s 3ms/step - loss: 1.3852 - accuracy: 0.5083 - val_loss: 1.5695 - val_accuracy: 0.4554\n",
      "Epoch 15/40\n",
      "391/391 [==============================] - 1s 3ms/step - loss: 1.3697 - accuracy: 0.5149 - val_loss: 1.4991 - val_accuracy: 0.4721\n",
      "Epoch 16/40\n",
      "391/391 [==============================] - 1s 3ms/step - loss: 1.3592 - accuracy: 0.5184 - val_loss: 1.6205 - val_accuracy: 0.4396\n",
      "Epoch 17/40\n",
      "391/391 [==============================] - 1s 3ms/step - loss: 1.3438 - accuracy: 0.5229 - val_loss: 1.4319 - val_accuracy: 0.4904\n",
      "Epoch 18/40\n",
      "391/391 [==============================] - 1s 3ms/step - loss: 1.3304 - accuracy: 0.5297 - val_loss: 1.5110 - val_accuracy: 0.4707\n",
      "Epoch 19/40\n",
      "391/391 [==============================] - 1s 3ms/step - loss: 1.3204 - accuracy: 0.5328 - val_loss: 1.4828 - val_accuracy: 0.4742\n",
      "Epoch 20/40\n",
      "391/391 [==============================] - 1s 3ms/step - loss: 1.3104 - accuracy: 0.5365 - val_loss: 1.4326 - val_accuracy: 0.4963\n",
      "Epoch 21/40\n",
      "391/391 [==============================] - 1s 3ms/step - loss: 1.3004 - accuracy: 0.5378 - val_loss: 1.5025 - val_accuracy: 0.4649\n",
      "Epoch 22/40\n",
      "391/391 [==============================] - 1s 3ms/step - loss: 1.2913 - accuracy: 0.5396 - val_loss: 1.4648 - val_accuracy: 0.4925\n",
      "Epoch 23/40\n",
      "391/391 [==============================] - 1s 3ms/step - loss: 1.2792 - accuracy: 0.5453 - val_loss: 1.4320 - val_accuracy: 0.4976\n",
      "Epoch 24/40\n",
      "391/391 [==============================] - 1s 3ms/step - loss: 1.2707 - accuracy: 0.5508 - val_loss: 1.5399 - val_accuracy: 0.4634\n",
      "Epoch 25/40\n",
      "391/391 [==============================] - 1s 3ms/step - loss: 1.2616 - accuracy: 0.5512 - val_loss: 1.4658 - val_accuracy: 0.4865\n",
      "Epoch 26/40\n",
      "391/391 [==============================] - 1s 3ms/step - loss: 1.2541 - accuracy: 0.5551 - val_loss: 1.5330 - val_accuracy: 0.4679\n",
      "Epoch 27/40\n",
      "391/391 [==============================] - 1s 3ms/step - loss: 1.2462 - accuracy: 0.5582 - val_loss: 1.5541 - val_accuracy: 0.4592\n",
      "Epoch 28/40\n",
      "391/391 [==============================] - 1s 3ms/step - loss: 1.2364 - accuracy: 0.5610 - val_loss: 1.4390 - val_accuracy: 0.4990\n",
      "Epoch 29/40\n",
      "391/391 [==============================] - 1s 3ms/step - loss: 1.2320 - accuracy: 0.5635 - val_loss: 1.4807 - val_accuracy: 0.4842\n",
      "Epoch 30/40\n",
      "391/391 [==============================] - 1s 3ms/step - loss: 1.2222 - accuracy: 0.5663 - val_loss: 1.4794 - val_accuracy: 0.4876\n",
      "Epoch 31/40\n",
      "391/391 [==============================] - 1s 3ms/step - loss: 1.2165 - accuracy: 0.5689 - val_loss: 1.5028 - val_accuracy: 0.4821\n",
      "Epoch 32/40\n",
      "391/391 [==============================] - 1s 3ms/step - loss: 1.2089 - accuracy: 0.5724 - val_loss: 1.5534 - val_accuracy: 0.4713\n",
      "Epoch 33/40\n",
      "391/391 [==============================] - 1s 3ms/step - loss: 1.2025 - accuracy: 0.5705 - val_loss: 1.5244 - val_accuracy: 0.4905\n",
      "Epoch 34/40\n",
      "391/391 [==============================] - 1s 3ms/step - loss: 1.1941 - accuracy: 0.5740 - val_loss: 1.5260 - val_accuracy: 0.4818\n",
      "Epoch 35/40\n",
      "391/391 [==============================] - 1s 3ms/step - loss: 1.1868 - accuracy: 0.5788 - val_loss: 1.4874 - val_accuracy: 0.4976\n",
      "Epoch 36/40\n",
      "391/391 [==============================] - 1s 3ms/step - loss: 1.1821 - accuracy: 0.5793 - val_loss: 1.4749 - val_accuracy: 0.5033\n",
      "Epoch 37/40\n",
      "391/391 [==============================] - 1s 3ms/step - loss: 1.1749 - accuracy: 0.5808 - val_loss: 1.5843 - val_accuracy: 0.4666\n",
      "Epoch 38/40\n",
      "391/391 [==============================] - 1s 3ms/step - loss: 1.1709 - accuracy: 0.5838 - val_loss: 1.4863 - val_accuracy: 0.4962\n",
      "Epoch 39/40\n",
      "391/391 [==============================] - 1s 3ms/step - loss: 1.1627 - accuracy: 0.5854 - val_loss: 1.4756 - val_accuracy: 0.4979\n",
      "Epoch 40/40\n",
      "391/391 [==============================] - 1s 3ms/step - loss: 1.1562 - accuracy: 0.5897 - val_loss: 1.4735 - val_accuracy: 0.4968\n",
      "Test loss: 1.4734495878219604\n",
      "Test accuracy: 0.4968999922275543\n"
     ]
    }
   ],
   "source": [
    "history = model.fit(x_train, y_train,\n",
    "                    batch_size=batch_size,\n",
    "                    epochs=epochs,\n",
    "                    verbose=1,\n",
    "                    validation_data=(x_test, y_test))\n",
    "score = model.evaluate(x_test, y_test, verbose=0)\n",
    "print('Test loss:', score[0])\n",
    "print('Test accuracy:', score[1])"
   ]
  },
  {
   "cell_type": "code",
   "execution_count": null,
   "id": "8fb94af6",
   "metadata": {},
   "outputs": [],
   "source": []
  },
  {
   "cell_type": "code",
   "execution_count": null,
   "id": "a3b2204f",
   "metadata": {},
   "outputs": [],
   "source": []
  },
  {
   "cell_type": "markdown",
   "id": "5b75436a",
   "metadata": {},
   "source": [
    "CIFAR-10_CNN"
   ]
  },
  {
   "cell_type": "code",
   "execution_count": 3,
   "id": "0084777f",
   "metadata": {},
   "outputs": [],
   "source": [
    "from __future__ import print_function\n",
    "\n",
    "import keras\n",
    "from keras.datasets import cifar10\n",
    "from keras.models import Sequential\n",
    "from keras.layers import Dense, Dropout, Flatten\n",
    "from keras.layers import Conv2D, MaxPooling2D\n",
    "from keras import backend as K\n",
    "from keras.optimizers import RMSprop\n",
    "\n",
    "batch_size = 128\n",
    "num_classes = 10\n",
    "epochs = 30\n",
    "\n",
    "# input image dimensions\n",
    "img_rows, img_cols = 32, 32\n",
    "\n",
    "# the data, split between train and test sets\n",
    "(x_train, y_train), (x_test, y_test) = cifar10.load_data()\n",
    "\n",
    "if K.image_data_format() == 'channels_first':\n",
    "    x_train = x_train.reshape(x_train.shape[0], 3, img_rows, img_cols)\n",
    "    x_test = x_test.reshape(x_test.shape[0], 3, img_rows, img_cols)\n",
    "    input_shape = (1, img_rows, img_cols)\n",
    "else:\n",
    "    x_train = x_train.reshape(x_train.shape[0], img_rows, img_cols, 3)\n",
    "    x_test = x_test.reshape(x_test.shape[0], img_rows, img_cols, 3)\n",
    "    input_shape = (img_rows, img_cols, 3)"
   ]
  },
  {
   "cell_type": "code",
   "execution_count": 11,
   "id": "18f30f29",
   "metadata": {},
   "outputs": [
    {
     "name": "stdout",
     "output_type": "stream",
     "text": [
      "x_train shape: (50000, 32, 32, 3)\n",
      "50000 train samples\n",
      "10000 test samples\n"
     ]
    }
   ],
   "source": [
    "x_train = x_train.astype('float32')\n",
    "x_test = x_test.astype('float32')\n",
    "x_train /= 255\n",
    "x_test /= 255\n",
    "print('x_train shape:', x_train.shape)\n",
    "print(x_train.shape[0], 'train samples')\n",
    "print(x_test.shape[0], 'test samples')\n",
    "\n",
    "# convert class vectors to binary class matrices\n",
    "y_train = keras.utils.to_categorical(y_train, num_classes)\n",
    "y_test = keras.utils.to_categorical(y_test, num_classes)"
   ]
  },
  {
   "cell_type": "code",
   "execution_count": 12,
   "id": "31bb9aba",
   "metadata": {},
   "outputs": [],
   "source": [
    "model = keras.models.Sequential([ keras.layers.Conv2D(64, 7, activation=\"relu\", padding=\"same\", input_shape=[32, 32, 3]),\n",
    "  keras.layers.MaxPooling2D(2),\n",
    "  keras.layers.Conv2D(128, 3, activation=\"relu\", padding=\"same\"),\n",
    "  keras.layers.Conv2D(128, 3, activation=\"relu\", padding=\"same\"), \n",
    "  keras.layers.MaxPooling2D(2), \n",
    "  keras.layers.Conv2D(256, 3, activation=\"relu\", padding=\"same\"), \n",
    "  keras.layers.Conv2D(256, 3, activation=\"relu\", padding=\"same\"), \n",
    "  keras.layers.MaxPooling2D(2), keras.layers.Flatten(),\n",
    "  keras.layers.Dense(128, activation=\"relu\"), \n",
    "  keras.layers.Dropout(0.5), \n",
    "  keras.layers.Dense(64, activation=\"relu\"), \n",
    "  keras.layers.Dropout(0.5),\n",
    "  keras.layers.Dense(10, activation=\"softmax\") ])"
   ]
  },
  {
   "cell_type": "code",
   "execution_count": 13,
   "id": "82100155",
   "metadata": {},
   "outputs": [
    {
     "name": "stdout",
     "output_type": "stream",
     "text": [
      "Model: \"sequential_1\"\n",
      "_________________________________________________________________\n",
      " Layer (type)                Output Shape              Param #   \n",
      "=================================================================\n",
      " conv2d_5 (Conv2D)           (None, 32, 32, 64)        9472      \n",
      "                                                                 \n",
      " max_pooling2d_3 (MaxPooling  (None, 16, 16, 64)       0         \n",
      " 2D)                                                             \n",
      "                                                                 \n",
      " conv2d_6 (Conv2D)           (None, 16, 16, 128)       73856     \n",
      "                                                                 \n",
      " conv2d_7 (Conv2D)           (None, 16, 16, 128)       147584    \n",
      "                                                                 \n",
      " max_pooling2d_4 (MaxPooling  (None, 8, 8, 128)        0         \n",
      " 2D)                                                             \n",
      "                                                                 \n",
      " conv2d_8 (Conv2D)           (None, 8, 8, 256)         295168    \n",
      "                                                                 \n",
      " conv2d_9 (Conv2D)           (None, 8, 8, 256)         590080    \n",
      "                                                                 \n",
      " max_pooling2d_5 (MaxPooling  (None, 4, 4, 256)        0         \n",
      " 2D)                                                             \n",
      "                                                                 \n",
      " flatten_1 (Flatten)         (None, 4096)              0         \n",
      "                                                                 \n",
      " dense_3 (Dense)             (None, 128)               524416    \n",
      "                                                                 \n",
      " dropout_2 (Dropout)         (None, 128)               0         \n",
      "                                                                 \n",
      " dense_4 (Dense)             (None, 64)                8256      \n",
      "                                                                 \n",
      " dropout_3 (Dropout)         (None, 64)                0         \n",
      "                                                                 \n",
      " dense_5 (Dense)             (None, 10)                650       \n",
      "                                                                 \n",
      "=================================================================\n",
      "Total params: 1,649,482\n",
      "Trainable params: 1,649,482\n",
      "Non-trainable params: 0\n",
      "_________________________________________________________________\n"
     ]
    }
   ],
   "source": [
    "model.summary()"
   ]
  },
  {
   "cell_type": "code",
   "execution_count": 14,
   "id": "2b8c9fdf",
   "metadata": {},
   "outputs": [],
   "source": [
    "model.compile(loss='categorical_crossentropy',\n",
    "              optimizer=RMSprop(),\n",
    "              metrics=['accuracy'])"
   ]
  },
  {
   "cell_type": "code",
   "execution_count": 16,
   "id": "b7d1464d",
   "metadata": {},
   "outputs": [
    {
     "name": "stdout",
     "output_type": "stream",
     "text": [
      "Epoch 1/12\n",
      "391/391 [==============================] - 6s 15ms/step - loss: 0.6919 - accuracy: 0.7790 - val_loss: 1.0206 - val_accuracy: 0.7070\n",
      "Epoch 2/12\n",
      "391/391 [==============================] - 6s 15ms/step - loss: 0.6779 - accuracy: 0.7872 - val_loss: 1.0825 - val_accuracy: 0.7105\n",
      "Epoch 3/12\n",
      "391/391 [==============================] - 6s 15ms/step - loss: 0.6531 - accuracy: 0.7947 - val_loss: 0.9372 - val_accuracy: 0.7135\n",
      "Epoch 4/12\n",
      "391/391 [==============================] - 6s 15ms/step - loss: 0.6412 - accuracy: 0.8006 - val_loss: 1.0240 - val_accuracy: 0.7318\n",
      "Epoch 5/12\n",
      "391/391 [==============================] - 6s 15ms/step - loss: 0.6299 - accuracy: 0.8036 - val_loss: 1.1485 - val_accuracy: 0.7088\n",
      "Epoch 6/12\n",
      "391/391 [==============================] - 6s 15ms/step - loss: 0.9734 - accuracy: 0.7992 - val_loss: 0.9898 - val_accuracy: 0.7218\n",
      "Epoch 7/12\n",
      "391/391 [==============================] - 6s 15ms/step - loss: 0.6267 - accuracy: 0.8054 - val_loss: 1.1921 - val_accuracy: 0.7256\n",
      "Epoch 8/12\n",
      "391/391 [==============================] - 6s 16ms/step - loss: 0.6379 - accuracy: 0.8051 - val_loss: 1.1729 - val_accuracy: 0.7402\n",
      "Epoch 9/12\n",
      "391/391 [==============================] - 6s 15ms/step - loss: 0.6471 - accuracy: 0.8081 - val_loss: 1.1026 - val_accuracy: 0.7144\n",
      "Epoch 10/12\n",
      "391/391 [==============================] - 6s 15ms/step - loss: 0.6335 - accuracy: 0.8041 - val_loss: 1.3481 - val_accuracy: 0.6216\n",
      "Epoch 11/12\n",
      "391/391 [==============================] - 6s 15ms/step - loss: 0.6609 - accuracy: 0.7986 - val_loss: 1.0618 - val_accuracy: 0.6616\n",
      "Epoch 12/12\n",
      "391/391 [==============================] - 6s 15ms/step - loss: 0.6611 - accuracy: 0.7992 - val_loss: 1.0738 - val_accuracy: 0.7367\n",
      "Test loss: 1.0737812519073486\n",
      "Test accuracy: 0.7366999983787537\n"
     ]
    }
   ],
   "source": [
    "history = model.fit(x_train, y_train,\n",
    "                    batch_size=batch_size,\n",
    "                    epochs=epochs,\n",
    "                    verbose=1,\n",
    "                    validation_data=(x_test, y_test))\n",
    "score = model.evaluate(x_test, y_test, verbose=0)\n",
    "print('Test loss:', score[0])\n",
    "print('Test accuracy:', score[1])"
   ]
  },
  {
   "cell_type": "code",
   "execution_count": null,
   "id": "211c6eae",
   "metadata": {},
   "outputs": [],
   "source": []
  }
 ],
 "metadata": {
  "kernelspec": {
   "display_name": "Python 3 (ipykernel)",
   "language": "python",
   "name": "python3"
  },
  "language_info": {
   "codemirror_mode": {
    "name": "ipython",
    "version": 3
   },
   "file_extension": ".py",
   "mimetype": "text/x-python",
   "name": "python",
   "nbconvert_exporter": "python",
   "pygments_lexer": "ipython3",
   "version": "3.9.13"
  }
 },
 "nbformat": 4,
 "nbformat_minor": 5
}
