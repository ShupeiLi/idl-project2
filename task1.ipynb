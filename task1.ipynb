{
 "cells": [
  {
   "cell_type": "markdown",
   "id": "21e74b7e-4249-4186-865f-a3cc44b02430",
   "metadata": {},
   "source": [
    "## Task 1"
   ]
  },
  {
   "cell_type": "code",
   "execution_count": 1,
   "id": "69b7e77b-2993-4190-bc59-534e961d3e66",
   "metadata": {},
   "outputs": [],
   "source": [
    "from __future__ import print_function\n",
    "import keras\n",
    "import tensorflow as tf\n",
    "import numpy as np\n",
    "from keras.datasets import mnist, fashion_mnist, cifar10\n",
    "from keras.models import Sequential\n",
    "from keras.layers import Dense, Dropout, Flatten, Input\n",
    "from keras.optimizers import RMSprop\n",
    "from keras.layers import Conv2D, MaxPooling2D\n",
    "from keras import backend as K\n",
    "from tensorflow.keras import regularizers\n",
    "import matplotlib.pyplot as plt"
   ]
  },
  {
   "cell_type": "markdown",
   "id": "eb834cc4-9d08-4981-9e6b-513b7f755b88",
   "metadata": {},
   "source": [
    "### Experiment with official repository example mnist_mlp.py"
   ]
  },
  {
   "cell_type": "code",
   "execution_count": 3,
   "id": "b44aa309-7fe6-49bc-a58b-8c11edb6cdad",
   "metadata": {},
   "outputs": [
    {
     "name": "stdout",
     "output_type": "stream",
     "text": [
      "60000 train samples\n",
      "10000 test samples\n",
      "Model: \"sequential_1\"\n",
      "_________________________________________________________________\n",
      " Layer (type)                Output Shape              Param #   \n",
      "=================================================================\n",
      " dense_3 (Dense)             (None, 512)               401920    \n",
      "                                                                 \n",
      " dropout_2 (Dropout)         (None, 512)               0         \n",
      "                                                                 \n",
      " dense_4 (Dense)             (None, 512)               262656    \n",
      "                                                                 \n",
      " dropout_3 (Dropout)         (None, 512)               0         \n",
      "                                                                 \n",
      " dense_5 (Dense)             (None, 10)                5130      \n",
      "                                                                 \n",
      "=================================================================\n",
      "Total params: 669,706\n",
      "Trainable params: 669,706\n",
      "Non-trainable params: 0\n",
      "_________________________________________________________________\n"
     ]
    }
   ],
   "source": [
    "batch_size = 128\n",
    "num_classes = 10\n",
    "epochs = 20\n",
    "\n",
    "# the data, split between train and test sets\n",
    "(x_train, y_train), (x_test, y_test) = mnist.load_data()\n",
    "\n",
    "x_train = x_train.reshape(60000, 784)\n",
    "x_test = x_test.reshape(10000, 784)\n",
    "x_train = x_train.astype('float32')\n",
    "x_test = x_test.astype('float32')\n",
    "x_train /= 255\n",
    "x_test /= 255\n",
    "print(x_train.shape[0], 'train samples')\n",
    "print(x_test.shape[0], 'test samples')\n",
    "\n",
    "# convert class vectors to binary class matrices\n",
    "y_train = keras.utils.to_categorical(y_train, num_classes)\n",
    "y_test = keras.utils.to_categorical(y_test, num_classes)\n",
    "\n",
    "model = Sequential()\n",
    "model.add(Dense(512, activation='relu', input_shape=(784,)))\n",
    "model.add(Dropout(0.2))\n",
    "model.add(Dense(512, activation='relu'))\n",
    "model.add(Dropout(0.2))\n",
    "model.add(Dense(num_classes, activation='softmax'))\n",
    "\n",
    "model.summary()"
   ]
  },
  {
   "cell_type": "code",
   "execution_count": 4,
   "id": "f70c634f-d24c-446a-9dba-55728b4c1da8",
   "metadata": {},
   "outputs": [
    {
     "name": "stdout",
     "output_type": "stream",
     "text": [
      "Epoch 1/20\n",
      "469/469 [==============================] - 4s 6ms/step - loss: 0.2426 - accuracy: 0.9262 - val_loss: 0.0938 - val_accuracy: 0.9701\n",
      "Epoch 2/20\n",
      "469/469 [==============================] - 2s 5ms/step - loss: 0.1020 - accuracy: 0.9693 - val_loss: 0.0832 - val_accuracy: 0.9761\n",
      "Epoch 3/20\n",
      "469/469 [==============================] - 2s 5ms/step - loss: 0.0763 - accuracy: 0.9765 - val_loss: 0.0707 - val_accuracy: 0.9790\n",
      "Epoch 4/20\n",
      "469/469 [==============================] - 2s 5ms/step - loss: 0.0600 - accuracy: 0.9824 - val_loss: 0.1012 - val_accuracy: 0.9734\n",
      "Epoch 5/20\n",
      "469/469 [==============================] - 2s 5ms/step - loss: 0.0521 - accuracy: 0.9846 - val_loss: 0.0756 - val_accuracy: 0.9806\n",
      "Epoch 6/20\n",
      "469/469 [==============================] - 2s 5ms/step - loss: 0.0436 - accuracy: 0.9867 - val_loss: 0.0765 - val_accuracy: 0.9824\n",
      "Epoch 7/20\n",
      "469/469 [==============================] - 2s 5ms/step - loss: 0.0377 - accuracy: 0.9888 - val_loss: 0.0771 - val_accuracy: 0.9818\n",
      "Epoch 8/20\n",
      "469/469 [==============================] - 2s 5ms/step - loss: 0.0340 - accuracy: 0.9901 - val_loss: 0.0769 - val_accuracy: 0.9836\n",
      "Epoch 9/20\n",
      "469/469 [==============================] - 2s 5ms/step - loss: 0.0305 - accuracy: 0.9912 - val_loss: 0.0785 - val_accuracy: 0.9833\n",
      "Epoch 10/20\n",
      "469/469 [==============================] - 2s 5ms/step - loss: 0.0280 - accuracy: 0.9915 - val_loss: 0.0860 - val_accuracy: 0.9837\n",
      "Epoch 11/20\n",
      "469/469 [==============================] - 2s 5ms/step - loss: 0.0264 - accuracy: 0.9923 - val_loss: 0.0928 - val_accuracy: 0.9814\n",
      "Epoch 12/20\n",
      "469/469 [==============================] - 2s 5ms/step - loss: 0.0247 - accuracy: 0.9929 - val_loss: 0.0939 - val_accuracy: 0.9828\n",
      "Epoch 13/20\n",
      "469/469 [==============================] - 2s 5ms/step - loss: 0.0232 - accuracy: 0.9938 - val_loss: 0.0864 - val_accuracy: 0.9843\n",
      "Epoch 14/20\n",
      "469/469 [==============================] - 2s 5ms/step - loss: 0.0206 - accuracy: 0.9936 - val_loss: 0.1012 - val_accuracy: 0.9834\n",
      "Epoch 15/20\n",
      "469/469 [==============================] - 2s 5ms/step - loss: 0.0203 - accuracy: 0.9942 - val_loss: 0.1180 - val_accuracy: 0.9837\n",
      "Epoch 16/20\n",
      "469/469 [==============================] - 2s 5ms/step - loss: 0.0182 - accuracy: 0.9948 - val_loss: 0.1066 - val_accuracy: 0.9843\n",
      "Epoch 17/20\n",
      "469/469 [==============================] - 2s 5ms/step - loss: 0.0217 - accuracy: 0.9941 - val_loss: 0.1047 - val_accuracy: 0.9850\n",
      "Epoch 18/20\n",
      "469/469 [==============================] - 2s 5ms/step - loss: 0.0173 - accuracy: 0.9954 - val_loss: 0.1319 - val_accuracy: 0.9827\n",
      "Epoch 19/20\n",
      "469/469 [==============================] - 2s 5ms/step - loss: 0.0164 - accuracy: 0.9953 - val_loss: 0.1206 - val_accuracy: 0.9845\n",
      "Epoch 20/20\n",
      "469/469 [==============================] - 2s 5ms/step - loss: 0.0158 - accuracy: 0.9959 - val_loss: 0.1206 - val_accuracy: 0.9837\n",
      "Test loss: 0.12055875360965729\n",
      "Test accuracy: 0.9836999773979187\n"
     ]
    }
   ],
   "source": [
    "model.compile(loss='categorical_crossentropy',\n",
    "              optimizer=RMSprop(),\n",
    "              metrics=['accuracy'])\n",
    "history = model.fit(x_train, y_train,\n",
    "                    batch_size=batch_size,\n",
    "                    epochs=epochs,\n",
    "                    verbose=1,\n",
    "                    validation_data=(x_test, y_test))\n",
    "score = model.evaluate(x_test, y_test, verbose=0)\n",
    "print('Test loss:', score[0])\n",
    "print('Test accuracy:', score[1])"
   ]
  },
  {
   "cell_type": "markdown",
   "id": "07b184ec-8be0-480f-9e7c-f03816d595d3",
   "metadata": {},
   "source": [
    "### Experiment with official repository example mnist_cnn.py"
   ]
  },
  {
   "cell_type": "code",
   "execution_count": 5,
   "id": "20fb8c7f-a84f-4eea-bfd0-5b77a9eae62e",
   "metadata": {},
   "outputs": [
    {
     "name": "stdout",
     "output_type": "stream",
     "text": [
      "x_train shape: (60000, 28, 28, 1)\n",
      "60000 train samples\n",
      "10000 test samples\n",
      "Model: \"sequential_2\"\n",
      "_________________________________________________________________\n",
      " Layer (type)                Output Shape              Param #   \n",
      "=================================================================\n",
      " conv2d (Conv2D)             (None, 26, 26, 32)        320       \n",
      "                                                                 \n",
      " conv2d_1 (Conv2D)           (None, 24, 24, 64)        18496     \n",
      "                                                                 \n",
      " max_pooling2d (MaxPooling2D  (None, 12, 12, 64)       0         \n",
      " )                                                               \n",
      "                                                                 \n",
      " dropout_4 (Dropout)         (None, 12, 12, 64)        0         \n",
      "                                                                 \n",
      " flatten (Flatten)           (None, 9216)              0         \n",
      "                                                                 \n",
      " dense_6 (Dense)             (None, 128)               1179776   \n",
      "                                                                 \n",
      " dropout_5 (Dropout)         (None, 128)               0         \n",
      "                                                                 \n",
      " dense_7 (Dense)             (None, 10)                1290      \n",
      "                                                                 \n",
      "=================================================================\n",
      "Total params: 1,199,882\n",
      "Trainable params: 1,199,882\n",
      "Non-trainable params: 0\n",
      "_________________________________________________________________\n"
     ]
    }
   ],
   "source": [
    "batch_size = 128\n",
    "num_classes = 10\n",
    "epochs = 12\n",
    "\n",
    "# input image dimensions\n",
    "img_rows, img_cols = 28, 28\n",
    "\n",
    "# the data, split between train and test sets\n",
    "(x_train, y_train), (x_test, y_test) = mnist.load_data()\n",
    "\n",
    "if K.image_data_format() == 'channels_first':\n",
    "    x_train = x_train.reshape(x_train.shape[0], 1, img_rows, img_cols)\n",
    "    x_test = x_test.reshape(x_test.shape[0], 1, img_rows, img_cols)\n",
    "    input_shape = (1, img_rows, img_cols)\n",
    "else:\n",
    "    x_train = x_train.reshape(x_train.shape[0], img_rows, img_cols, 1)\n",
    "    x_test = x_test.reshape(x_test.shape[0], img_rows, img_cols, 1)\n",
    "    input_shape = (img_rows, img_cols, 1)\n",
    "\n",
    "x_train = x_train.astype('float32')\n",
    "x_test = x_test.astype('float32')\n",
    "x_train /= 255\n",
    "x_test /= 255\n",
    "print('x_train shape:', x_train.shape)\n",
    "print(x_train.shape[0], 'train samples')\n",
    "print(x_test.shape[0], 'test samples')\n",
    "\n",
    "# convert class vectors to binary class matrices\n",
    "y_train = keras.utils.to_categorical(y_train, num_classes)\n",
    "y_test = keras.utils.to_categorical(y_test, num_classes)\n",
    "\n",
    "model = Sequential()\n",
    "model.add(Conv2D(32, kernel_size=(3, 3),\n",
    "                 activation='relu',\n",
    "                 input_shape=input_shape))\n",
    "model.add(Conv2D(64, (3, 3), activation='relu'))\n",
    "model.add(MaxPooling2D(pool_size=(2, 2)))\n",
    "model.add(Dropout(0.25))\n",
    "model.add(Flatten())\n",
    "model.add(Dense(128, activation='relu'))\n",
    "model.add(Dropout(0.5))\n",
    "model.add(Dense(num_classes, activation='softmax'))\n",
    "\n",
    "model.summary()"
   ]
  },
  {
   "cell_type": "code",
   "execution_count": 7,
   "id": "63ec657e-ace6-48b9-b69e-6e19f8e69d7b",
   "metadata": {},
   "outputs": [
    {
     "name": "stdout",
     "output_type": "stream",
     "text": [
      "Epoch 1/12\n",
      "469/469 [==============================] - 5s 9ms/step - loss: 0.9283 - accuracy: 0.7245 - val_loss: 0.6872 - val_accuracy: 0.8554\n",
      "Epoch 2/12\n",
      "469/469 [==============================] - 4s 8ms/step - loss: 0.8794 - accuracy: 0.7378 - val_loss: 0.6414 - val_accuracy: 0.8600\n",
      "Epoch 3/12\n",
      "469/469 [==============================] - 4s 8ms/step - loss: 0.8384 - accuracy: 0.7482 - val_loss: 0.6013 - val_accuracy: 0.8638\n",
      "Epoch 4/12\n",
      "469/469 [==============================] - 4s 8ms/step - loss: 0.7978 - accuracy: 0.7595 - val_loss: 0.5674 - val_accuracy: 0.8679\n",
      "Epoch 5/12\n",
      "469/469 [==============================] - 4s 8ms/step - loss: 0.7712 - accuracy: 0.7649 - val_loss: 0.5392 - val_accuracy: 0.8710\n",
      "Epoch 6/12\n",
      "469/469 [==============================] - 4s 8ms/step - loss: 0.7403 - accuracy: 0.7750 - val_loss: 0.5140 - val_accuracy: 0.8739\n",
      "Epoch 7/12\n",
      "469/469 [==============================] - 4s 8ms/step - loss: 0.7147 - accuracy: 0.7825 - val_loss: 0.4924 - val_accuracy: 0.8771\n",
      "Epoch 8/12\n",
      "469/469 [==============================] - 4s 9ms/step - loss: 0.6948 - accuracy: 0.7875 - val_loss: 0.4741 - val_accuracy: 0.8798\n",
      "Epoch 9/12\n",
      "469/469 [==============================] - 4s 8ms/step - loss: 0.6709 - accuracy: 0.7949 - val_loss: 0.4577 - val_accuracy: 0.8822\n",
      "Epoch 10/12\n",
      "469/469 [==============================] - 4s 8ms/step - loss: 0.6554 - accuracy: 0.7999 - val_loss: 0.4429 - val_accuracy: 0.8852\n",
      "Epoch 11/12\n",
      "469/469 [==============================] - 4s 8ms/step - loss: 0.6402 - accuracy: 0.8054 - val_loss: 0.4306 - val_accuracy: 0.8873\n",
      "Epoch 12/12\n",
      "469/469 [==============================] - 4s 8ms/step - loss: 0.6238 - accuracy: 0.8083 - val_loss: 0.4189 - val_accuracy: 0.8891\n",
      "Test loss: 0.4188911020755768\n",
      "Test accuracy: 0.8891000151634216\n"
     ]
    }
   ],
   "source": [
    "model.compile(loss=keras.losses.categorical_crossentropy,\n",
    "              optimizer=keras.optimizers.Adadelta(),\n",
    "              metrics=['accuracy'])\n",
    "model.fit(x_train, y_train,\n",
    "          batch_size=batch_size,\n",
    "          epochs=epochs,\n",
    "          verbose=1,\n",
    "          validation_data=(x_test, y_test))\n",
    "score = model.evaluate(x_test, y_test, verbose=0)\n",
    "print('Test loss:', score[0])\n",
    "print('Test accuracy:', score[1])"
   ]
  },
  {
   "cell_type": "markdown",
   "id": "6f95c171-b3a7-4b85-8365-285b51a95d68",
   "metadata": {},
   "source": [
    "### Fashion MNIST MLP"
   ]
  },
  {
   "cell_type": "code",
   "execution_count": 2,
   "id": "05d43431-d3e9-4432-a412-49dd43f0e0d6",
   "metadata": {},
   "outputs": [
    {
     "name": "stdout",
     "output_type": "stream",
     "text": [
      "60000 train samples\n",
      "10000 test samples\n"
     ]
    }
   ],
   "source": [
    "batch_size = 128\n",
    "num_classes = 10\n",
    "epochs = 30\n",
    "\n",
    "# the data, split between train and test sets\n",
    "(x_train, y_train), (x_test, y_test) = fashion_mnist.load_data()\n",
    "\n",
    "x_train = x_train.reshape(60000, 784)\n",
    "x_test = x_test.reshape(10000, 784)\n",
    "x_train = x_train.astype('float32')\n",
    "x_test = x_test.astype('float32')\n",
    "x_train /= 255\n",
    "x_test /= 255\n",
    "print(x_train.shape[0], 'train samples')\n",
    "print(x_test.shape[0], 'test samples')\n",
    "\n",
    "# convert class vectors to binary class matrices\n",
    "y_train = keras.utils.to_categorical(y_train, num_classes)\n",
    "y_test = keras.utils.to_categorical(y_test, num_classes)"
   ]
  },
  {
   "cell_type": "markdown",
   "id": "afeae88a-9763-41f5-a3f9-ac1d4d70afb1",
   "metadata": {},
   "source": [
    "#### MLP: Baseline (Example in the textbook)"
   ]
  },
  {
   "cell_type": "code",
   "execution_count": 4,
   "id": "94314a24-0ea9-4ab8-953d-e738c3d327d2",
   "metadata": {},
   "outputs": [
    {
     "name": "stdout",
     "output_type": "stream",
     "text": [
      "Model: \"sequential\"\n",
      "_________________________________________________________________\n",
      " Layer (type)                Output Shape              Param #   \n",
      "=================================================================\n",
      " dense (Dense)               (None, 300)               235500    \n",
      "                                                                 \n",
      " dense_1 (Dense)             (None, 100)               30100     \n",
      "                                                                 \n",
      " dense_2 (Dense)             (None, 10)                1010      \n",
      "                                                                 \n",
      "=================================================================\n",
      "Total params: 266,610\n",
      "Trainable params: 266,610\n",
      "Non-trainable params: 0\n",
      "_________________________________________________________________\n"
     ]
    }
   ],
   "source": [
    "K.clear_session()\n",
    "model = Sequential()\n",
    "model.add(Dense(300, activation=\"relu\", input_shape=(784,)))\n",
    "model.add(Dense(100, activation=\"relu\"))\n",
    "model.add(Dense(10, activation=\"softmax\"))\n",
    "model.summary()"
   ]
  },
  {
   "cell_type": "code",
   "execution_count": 5,
   "id": "85d58e28-84ae-4413-9126-ac0fe7375eba",
   "metadata": {},
   "outputs": [
    {
     "name": "stdout",
     "output_type": "stream",
     "text": [
      "Epoch 1/30\n",
      "375/375 [==============================] - 3s 5ms/step - loss: 0.5826 - accuracy: 0.7877 - val_loss: 0.4966 - val_accuracy: 0.8132\n",
      "Epoch 2/30\n",
      "375/375 [==============================] - 2s 5ms/step - loss: 0.3951 - accuracy: 0.8545 - val_loss: 0.4153 - val_accuracy: 0.8511\n",
      "Epoch 3/30\n",
      "375/375 [==============================] - 2s 4ms/step - loss: 0.3507 - accuracy: 0.8694 - val_loss: 0.3645 - val_accuracy: 0.8682\n",
      "Epoch 4/30\n",
      "375/375 [==============================] - 2s 4ms/step - loss: 0.3191 - accuracy: 0.8807 - val_loss: 0.3272 - val_accuracy: 0.8832\n",
      "Epoch 5/30\n",
      "375/375 [==============================] - 2s 4ms/step - loss: 0.3007 - accuracy: 0.8879 - val_loss: 0.3244 - val_accuracy: 0.8845\n",
      "Epoch 6/30\n",
      "375/375 [==============================] - 2s 5ms/step - loss: 0.2815 - accuracy: 0.8941 - val_loss: 0.3813 - val_accuracy: 0.8621\n",
      "Epoch 7/30\n",
      "375/375 [==============================] - 2s 5ms/step - loss: 0.2677 - accuracy: 0.9000 - val_loss: 0.3305 - val_accuracy: 0.8845\n",
      "Epoch 8/30\n",
      "375/375 [==============================] - 2s 5ms/step - loss: 0.2552 - accuracy: 0.9039 - val_loss: 0.3188 - val_accuracy: 0.8894\n",
      "Epoch 9/30\n",
      "375/375 [==============================] - 2s 5ms/step - loss: 0.2457 - accuracy: 0.9083 - val_loss: 0.3200 - val_accuracy: 0.8909\n",
      "Epoch 10/30\n",
      "375/375 [==============================] - 2s 4ms/step - loss: 0.2375 - accuracy: 0.9100 - val_loss: 0.3226 - val_accuracy: 0.8898\n",
      "Epoch 11/30\n",
      "375/375 [==============================] - 2s 5ms/step - loss: 0.2270 - accuracy: 0.9142 - val_loss: 0.3500 - val_accuracy: 0.8887\n",
      "Epoch 12/30\n",
      "375/375 [==============================] - 2s 5ms/step - loss: 0.2200 - accuracy: 0.9177 - val_loss: 0.3439 - val_accuracy: 0.8860\n",
      "Epoch 13/30\n",
      "375/375 [==============================] - 2s 5ms/step - loss: 0.2090 - accuracy: 0.9208 - val_loss: 0.3609 - val_accuracy: 0.8875\n",
      "Epoch 14/30\n",
      "375/375 [==============================] - 2s 5ms/step - loss: 0.2049 - accuracy: 0.9226 - val_loss: 0.3707 - val_accuracy: 0.8887\n",
      "Epoch 15/30\n",
      "375/375 [==============================] - 2s 5ms/step - loss: 0.1968 - accuracy: 0.9256 - val_loss: 0.3576 - val_accuracy: 0.8910\n",
      "Epoch 16/30\n",
      "375/375 [==============================] - 2s 5ms/step - loss: 0.1910 - accuracy: 0.9275 - val_loss: 0.3853 - val_accuracy: 0.8904\n",
      "Epoch 17/30\n",
      "375/375 [==============================] - 2s 5ms/step - loss: 0.1870 - accuracy: 0.9292 - val_loss: 0.3648 - val_accuracy: 0.8917\n",
      "Epoch 18/30\n",
      "375/375 [==============================] - 2s 4ms/step - loss: 0.1788 - accuracy: 0.9327 - val_loss: 0.4203 - val_accuracy: 0.8898\n",
      "Epoch 19/30\n",
      "375/375 [==============================] - 2s 5ms/step - loss: 0.1762 - accuracy: 0.9337 - val_loss: 0.3666 - val_accuracy: 0.8954\n",
      "Epoch 20/30\n",
      "375/375 [==============================] - 2s 5ms/step - loss: 0.1720 - accuracy: 0.9359 - val_loss: 0.3954 - val_accuracy: 0.8912\n",
      "Epoch 21/30\n",
      "375/375 [==============================] - 2s 5ms/step - loss: 0.1663 - accuracy: 0.9375 - val_loss: 0.4003 - val_accuracy: 0.8885\n",
      "Epoch 22/30\n",
      "375/375 [==============================] - 2s 5ms/step - loss: 0.1640 - accuracy: 0.9387 - val_loss: 0.4035 - val_accuracy: 0.8952\n",
      "Epoch 23/30\n",
      "375/375 [==============================] - 2s 5ms/step - loss: 0.1590 - accuracy: 0.9406 - val_loss: 0.4573 - val_accuracy: 0.8883\n",
      "Epoch 24/30\n",
      "375/375 [==============================] - 2s 5ms/step - loss: 0.1558 - accuracy: 0.9419 - val_loss: 0.4650 - val_accuracy: 0.8886\n",
      "Epoch 25/30\n",
      "375/375 [==============================] - 2s 5ms/step - loss: 0.1511 - accuracy: 0.9430 - val_loss: 0.4075 - val_accuracy: 0.8949\n",
      "Epoch 26/30\n",
      "375/375 [==============================] - 2s 5ms/step - loss: 0.1503 - accuracy: 0.9433 - val_loss: 0.4157 - val_accuracy: 0.8981\n",
      "Epoch 27/30\n",
      "375/375 [==============================] - 2s 5ms/step - loss: 0.1460 - accuracy: 0.9453 - val_loss: 0.4462 - val_accuracy: 0.8908\n",
      "Epoch 28/30\n",
      "375/375 [==============================] - 2s 5ms/step - loss: 0.1410 - accuracy: 0.9479 - val_loss: 0.5487 - val_accuracy: 0.8727\n",
      "Epoch 29/30\n",
      "375/375 [==============================] - 2s 5ms/step - loss: 0.1398 - accuracy: 0.9465 - val_loss: 0.4744 - val_accuracy: 0.8919\n",
      "Epoch 30/30\n",
      "375/375 [==============================] - 2s 5ms/step - loss: 0.1387 - accuracy: 0.9473 - val_loss: 0.5451 - val_accuracy: 0.8908\n",
      "Test loss: 0.6186369061470032\n",
      "Test accuracy: 0.8863000273704529\n"
     ]
    }
   ],
   "source": [
    "model.compile(loss='categorical_crossentropy',\n",
    "              optimizer=RMSprop(),\n",
    "              metrics=['accuracy'])\n",
    "history = model.fit(x_train, y_train,\n",
    "                    batch_size=batch_size,\n",
    "                    epochs=epochs,\n",
    "                    verbose=1,\n",
    "                    validation_split=0.2)\n",
    "score = model.evaluate(x_test, y_test, verbose=0)\n",
    "print('Test loss:', score[0])\n",
    "print('Test accuracy:', score[1])"
   ]
  },
  {
   "cell_type": "markdown",
   "id": "1681b5f4-a7dc-4803-ab20-4fa5d7bcf8dd",
   "metadata": {},
   "source": [
    "#### Experiments with MLP network"
   ]
  },
  {
   "cell_type": "code",
   "execution_count": 3,
   "id": "c6b581f7-0dcf-4359-b189-907c47cc2ef4",
   "metadata": {},
   "outputs": [],
   "source": [
    "def mlp_models(num_layers=3, arg_dict=arg_dict, dropout=False, dropout_lst=[], optimizer=RMSprop(), batch=128, info=\"\"):\n",
    "    K.clear_session()\n",
    "    print(f\"{info}\")\n",
    "    model = keras.models.Sequential()\n",
    "    model.add(Input(shape=(784,)))\n",
    "    for i in range(num_layers):\n",
    "        model.add(Dense(arg_dict[i][0], \n",
    "                     activation=arg_dict[i][1], \n",
    "                     kernel_initializer=arg_dict[i][2], \n",
    "                     kernel_regularizer=arg_dict[i][3]))\n",
    "        if dropout and i != (num_layers - 1):\n",
    "            model.add(Dropout(dropout_lst[i]))\n",
    "    model.compile(loss='categorical_crossentropy',\n",
    "                  optimizer=optimizer,\n",
    "                  metrics=['accuracy'])   \n",
    "    \n",
    "    model_checkpoint_callback = tf.keras.callbacks.ModelCheckpoint(\n",
    "        filepath=\"./temp.hdf5\",\n",
    "        save_weights_only=True,\n",
    "        monitor='val_accuracy',\n",
    "        mode='max',\n",
    "        save_best_only=True)\n",
    "    \n",
    "    early_callback = tf.keras.callbacks.EarlyStopping(monitor=\"val_accuracy\", patience=5)\n",
    "    \n",
    "    history = model.fit(x_train, y_train,\n",
    "                    batch_size=batch,\n",
    "                    epochs=50,\n",
    "                    verbose=0,\n",
    "                    validation_split=0.2,\n",
    "                    callbacks=[model_checkpoint_callback, early_callback])\n",
    "    model.load_weights(\"./temp.hdf5\")\n",
    "    score = model.evaluate(x_test, y_test, verbose=0) \n",
    "    print('Test loss:', score[0])\n",
    "    print('Test accuracy:', score[1])\n",
    "    return history.history, score"
   ]
  },
  {
   "cell_type": "markdown",
   "id": "2ae88d3e-ffa6-4f2a-bf7a-a4508b8c6124",
   "metadata": {},
   "source": [
    "##### Architecture: Adding / removing layers"
   ]
  },
  {
   "cell_type": "code",
   "execution_count": 6,
   "id": "e1cb160b-341e-4514-adbe-7f510f18fbb8",
   "metadata": {},
   "outputs": [
    {
     "name": "stdout",
     "output_type": "stream",
     "text": [
      "Two layers\n",
      "Test loss: 0.36792272329330444\n",
      "Test accuracy: 0.8910999894142151\n",
      "Three layers\n",
      "Test loss: 0.3622269034385681\n",
      "Test accuracy: 0.8842999935150146\n",
      "Four layers\n",
      "Test loss: 0.3582518398761749\n",
      "Test accuracy: 0.8841999769210815\n"
     ]
    }
   ],
   "source": [
    "arg_dict = [{0: (512, \"relu\", \"glorot_uniform\", None),\n",
    "             1: (10, \"softmax\", \"glorot_uniform\", None),\n",
    "            }, \n",
    "            {0: (512, \"relu\", \"glorot_uniform\", None),\n",
    "             1: (128, \"relu\", \"glorot_uniform\", None),\n",
    "             2: (10, \"softmax\", \"glorot_uniform\", None),\n",
    "            },\n",
    "            {0: (512, \"relu\", \"glorot_uniform\", None),\n",
    "             1: (128, \"relu\", \"glorot_uniform\", None),\n",
    "             2: (64, \"relu\", \"glorot_uniform\", None),\n",
    "             3: (10, \"softmax\", \"glorot_uniform\", None),\n",
    "            }]\n",
    "history_lst = list()\n",
    "info_lst = [\"Two layers\", \"Three layers\", \"Four layers\"]\n",
    "for trial in range(3):\n",
    "    his, _ = mlp_models(num_layers=trial + 2, arg_dict=arg_dict[trial], info=info_lst[trial])\n",
    "    history_lst.append(his)"
   ]
  },
  {
   "cell_type": "code",
   "execution_count": 14,
   "id": "ce4d5e82-9ab2-420d-a17a-31075052fad2",
   "metadata": {
    "tags": []
   },
   "outputs": [
    {
     "data": {
      "image/png": "[encoded data removed]",
      "text/plain": [
       "<Figure size 576x360 with 1 Axes>"
      ]
     },
     "metadata": {
      "needs_background": "light"
     },
     "output_type": "display_data"
    }
   ],
   "source": [
    "plt.rcParams[\"figure.figsize\"] = (8, 5)\n",
    "for index in range(len(history_lst)):\n",
    "    acc = history_lst[index][\"val_accuracy\"]\n",
    "    plt.plot(list(range(1, len(acc) + 1)), acc, label=f\"{index + 2} layers\")\n",
    "plt.legend()\n",
    "plt.xlabel(\"epoch\")\n",
    "plt.ylabel(\"val_acc\")\n",
    "plt.title(\"Validation Acc\")\n",
    "plt.show()"
   ]
  },
  {
   "cell_type": "markdown",
   "id": "3b92d336-98fe-4cb2-b776-57c4cb6d65d4",
   "metadata": {},
   "source": [
    "##### Architecture: Number of units"
   ]
  },
  {
   "cell_type": "code",
   "execution_count": 19,
   "id": "dd044e45-8a89-42fd-9f32-6a898befc65d",
   "metadata": {},
   "outputs": [
    {
     "name": "stdout",
     "output_type": "stream",
     "text": [
      "512\n",
      "Test loss: 0.3538702428340912\n",
      "Test accuracy: 0.8858000040054321\n",
      "256\n",
      "Test loss: 0.3302786648273468\n",
      "Test accuracy: 0.8847000002861023\n",
      "128\n",
      "Test loss: 0.36588016152381897\n",
      "Test accuracy: 0.8876000046730042\n"
     ]
    }
   ],
   "source": [
    "arg_dict = [{0: (512, \"relu\", \"glorot_uniform\", None),\n",
    "             1: (10, \"softmax\", \"glorot_uniform\", None),\n",
    "            }, \n",
    "           {0: (256, \"relu\", \"glorot_uniform\", None),\n",
    "            1: (10, \"softmax\", \"glorot_uniform\", None),\n",
    "            }, \n",
    "           {0: (128, \"relu\", \"glorot_uniform\", None),\n",
    "            1: (10, \"softmax\", \"glorot_uniform\", None),\n",
    "            },]\n",
    "history_lst = list()\n",
    "info_lst = [\"512\", \"256\", \"128\"]\n",
    "for trial in range(3):\n",
    "    his, _ = mlp_models(num_layers=2, arg_dict=arg_dict[trial], info=info_lst[trial])\n",
    "    history_lst.append(his)"
   ]
  },
  {
   "cell_type": "code",
   "execution_count": 20,
   "id": "41d10185-935d-4a61-9d60-f7b95a069ffd",
   "metadata": {},
   "outputs": [
    {
     "data": {
      "image/png": "[encoded data removed]",
      "text/plain": [
       "<Figure size 576x360 with 1 Axes>"
      ]
     },
     "metadata": {
      "needs_background": "light"
     },
     "output_type": "display_data"
    }
   ],
   "source": [
    "for index in range(len(history_lst)):\n",
    "    acc = history_lst[index][\"val_accuracy\"]\n",
    "    plt.plot(list(range(1, len(acc) + 1)), acc, label=f\"{info_lst[index]}\")\n",
    "plt.legend()\n",
    "plt.xlabel(\"epoch\")\n",
    "plt.ylabel(\"val_acc\")\n",
    "plt.title(\"Validation Acc\")\n",
    "plt.show()"
   ]
  },
  {
   "cell_type": "markdown",
   "id": "02c77cd9-b4e9-4a6e-9f6f-9b51008c4a0e",
   "metadata": {},
   "source": [
    "##### Initializations / Activations / Optimizers / Regularizations"
   ]
  },
  {
   "cell_type": "code",
   "execution_count": 11,
   "id": "7ae655c6-0157-48e3-8b0b-e0fbbd36c608",
   "metadata": {},
   "outputs": [
    {
     "name": "stdout",
     "output_type": "stream",
     "text": [
      "Parameter Settings: 81.\n",
      "Example: {0: (128, 'relu', <keras.initializers.initializers_v2.GlorotUniform object at 0x7f502b5063d0>, <keras.regularizers.L1 object at 0x7f502b467b80>), 1: (10, 'softmax', <keras.initializers.initializers_v2.GlorotUniform object at 0x7f502b5063d0>, None), 'op': <keras.optimizers.optimizer_v2.rmsprop.RMSprop object at 0x7f502b4671c0>, 'info': 'glorot uniform / relu / RMSprop / L1'}\n"
     ]
    }
   ],
   "source": [
    "# No dropout\n",
    "initialization_lst = [tf.keras.initializers.GlorotUniform(),\n",
    "                      tf.keras.initializers.RandomNormal(mean=0., stddev=1.),\n",
    "                      tf.keras.initializers.GlorotNormal(),\n",
    "                     ]\n",
    "initialization_info = [\"glorot uniform\", \"random normal\", \"glorot normal\"]\n",
    "activation_lst = [\"relu\", \"sigmoid\", \"tanh\"]\n",
    "optimizer_lst = [tf.keras.optimizers.RMSprop(),\n",
    "                 tf.keras.optimizers.Adam(),\n",
    "                 tf.keras.optimizers.Adam(learning_rate=0.01),\n",
    "                 ]\n",
    "optimizer_info = [\"RMSprop\", \"adam default\", \"adam 0.01\"]\n",
    "regularization_lst = [regularizers.L1(l1=0.01), regularizers.L2(l2=0.01), None]\n",
    "regularization_info = [\"L1\", \"L2\", \"None\"]\n",
    "\n",
    "arg_dict = list()\n",
    "for a in range(3):\n",
    "    initialization = initialization_lst[a]\n",
    "    for b in range(3):\n",
    "        activation = activation_lst[b]\n",
    "        for c in range(3):\n",
    "            optimizer = optimizer_lst[c]\n",
    "            for d in range(3):\n",
    "                regularization = regularization_lst[d]\n",
    "                info = \" / \".join([initialization_info[a], activation_lst[b], optimizer_info[c], regularization_info[d]])\n",
    "                arg_dict.append({0: (128, activation, initialization, regularization),\n",
    "                                 1: (10, \"softmax\", initialization, None),\n",
    "                                 \"op\": optimizer,\n",
    "                                 \"info\": info},)\n",
    "print(f\"Parameter Settings: {len(arg_dict)}.\")\n",
    "print(f\"Example: {arg_dict[0]}\")"
   ]
  },
  {
   "cell_type": "code",
   "execution_count": 12,
   "id": "1043c8a2-8ab8-4ebb-b178-eb948d778077",
   "metadata": {},
   "outputs": [
    {
     "name": "stdout",
     "output_type": "stream",
     "text": [
      "glorot uniform / relu / RMSprop / L1\n",
      "Test loss: 1.3726140260696411\n",
      "Test accuracy: 0.7714999914169312\n",
      "glorot uniform / relu / RMSprop / L2\n",
      "Test loss: 0.6088033318519592\n",
      "Test accuracy: 0.8213000297546387\n",
      "glorot uniform / relu / RMSprop / None\n",
      "Test loss: 0.3491945266723633\n",
      "Test accuracy: 0.8755999803543091\n",
      "glorot uniform / relu / adam default / L1\n",
      "Test loss: 0.9702183604240417\n",
      "Test accuracy: 0.7858999967575073\n",
      "glorot uniform / relu / adam default / L2\n",
      "Test loss: 0.5215848684310913\n",
      "Test accuracy: 0.8420000076293945\n",
      "glorot uniform / relu / adam default / None\n",
      "Test loss: 0.35733363032341003\n",
      "Test accuracy: 0.8827000260353088\n",
      "glorot uniform / relu / adam 0.01 / L1\n",
      "Test loss: 2.304311513900757\n",
      "Test accuracy: 0.7472000122070312\n",
      "glorot uniform / relu / adam 0.01 / L2\n",
      "Test loss: 0.7077142000198364\n",
      "Test accuracy: 0.7990000247955322\n",
      "glorot uniform / relu / adam 0.01 / None\n",
      "Test loss: 0.4366047978401184\n",
      "Test accuracy: 0.8478000164031982\n",
      "glorot uniform / sigmoid / RMSprop / L1\n",
      "Test loss: 1.6662111282348633\n",
      "Test accuracy: 0.6696000099182129\n",
      "glorot uniform / sigmoid / RMSprop / L2\n",
      "Test loss: 0.7748270034790039\n",
      "Test accuracy: 0.7807000279426575\n",
      "glorot uniform / sigmoid / RMSprop / None\n",
      "Test loss: 0.3304062783718109\n",
      "Test accuracy: 0.8888000249862671\n",
      "glorot uniform / sigmoid / adam default / L1\n",
      "Test loss: 1.141549825668335\n",
      "Test accuracy: 0.7444000244140625\n",
      "glorot uniform / sigmoid / adam default / L2\n",
      "Test loss: 0.6991339921951294\n",
      "Test accuracy: 0.8033000230789185\n",
      "glorot uniform / sigmoid / adam default / None\n",
      "Test loss: 0.3345186412334442\n",
      "Test accuracy: 0.8787999749183655\n",
      "glorot uniform / sigmoid / adam 0.01 / L1\n",
      "Test loss: 2.3017475605010986\n",
      "Test accuracy: 0.7447999715805054\n",
      "glorot uniform / sigmoid / adam 0.01 / L2\n",
      "Test loss: 0.6836003661155701\n",
      "Test accuracy: 0.8021000027656555\n",
      "glorot uniform / sigmoid / adam 0.01 / None\n",
      "Test loss: 0.40303850173950195\n",
      "Test accuracy: 0.8651000261306763\n",
      "glorot uniform / tanh / RMSprop / L1\n",
      "Test loss: 1.3678463697433472\n",
      "Test accuracy: 0.785099983215332\n",
      "glorot uniform / tanh / RMSprop / L2\n",
      "Test loss: 0.5679479241371155\n",
      "Test accuracy: 0.8294000029563904\n",
      "glorot uniform / tanh / RMSprop / None\n",
      "Test loss: 0.349107950925827\n",
      "Test accuracy: 0.8755999803543091\n",
      "glorot uniform / tanh / adam default / L1\n",
      "Test loss: 0.9292331337928772\n",
      "Test accuracy: 0.7968000173568726\n",
      "glorot uniform / tanh / adam default / L2\n",
      "Test loss: 0.5265849232673645\n",
      "Test accuracy: 0.840499997138977\n",
      "glorot uniform / tanh / adam default / None\n",
      "Test loss: 0.33586788177490234\n",
      "Test accuracy: 0.8813999891281128\n",
      "glorot uniform / tanh / adam 0.01 / L1\n",
      "Test loss: 2.184805154800415\n",
      "Test accuracy: 0.7731999754905701\n",
      "glorot uniform / tanh / adam 0.01 / L2\n",
      "Test loss: 0.6729387640953064\n",
      "Test accuracy: 0.8119000196456909\n",
      "glorot uniform / tanh / adam 0.01 / None\n",
      "Test loss: 0.43014970421791077\n",
      "Test accuracy: 0.8589000105857849\n",
      "random normal / relu / RMSprop / L1\n",
      "Test loss: 297.35443115234375\n",
      "Test accuracy: 0.7491999864578247\n",
      "random normal / relu / RMSprop / L2\n",
      "Test loss: 1.1381272077560425\n",
      "Test accuracy: 0.843999981880188\n",
      "random normal / relu / RMSprop / None\n",
      "Test loss: 1.9698559045791626\n",
      "Test accuracy: 0.8320000171661377\n",
      "random normal / relu / adam default / L1\n",
      "Test loss: 126.85816192626953\n",
      "Test accuracy: 0.7512999773025513\n",
      "random normal / relu / adam default / L2\n",
      "Test loss: 2.1181559562683105\n",
      "Test accuracy: 0.8407999873161316\n",
      "random normal / relu / adam default / None\n",
      "Test loss: 1.0910723209381104\n",
      "Test accuracy: 0.8342000246047974\n",
      "random normal / relu / adam 0.01 / L1\n",
      "Test loss: 2.3341448307037354\n",
      "Test accuracy: 0.7426999807357788\n",
      "random normal / relu / adam 0.01 / L2\n",
      "Test loss: 0.6432240605354309\n",
      "Test accuracy: 0.8133999705314636\n",
      "random normal / relu / adam 0.01 / None\n",
      "Test loss: 0.4433766007423401\n",
      "Test accuracy: 0.859499990940094\n",
      "random normal / sigmoid / RMSprop / L1\n",
      "Test loss: 67.63477325439453\n",
      "Test accuracy: 0.6793000102043152\n",
      "random normal / sigmoid / RMSprop / L2\n",
      "Test loss: 0.8164916038513184\n",
      "Test accuracy: 0.8242999911308289\n",
      "random normal / sigmoid / RMSprop / None\n",
      "Test loss: 0.42672616243362427\n",
      "Test accuracy: 0.8648999929428101\n",
      "random normal / sigmoid / adam default / L1\n",
      "Test loss: 1.1797500848770142\n",
      "Test accuracy: 0.7649000287055969\n",
      "random normal / sigmoid / adam default / L2\n",
      "Test loss: 14.32412338256836\n",
      "Test accuracy: 0.8120999932289124\n",
      "random normal / sigmoid / adam default / None\n",
      "Test loss: 0.4124218821525574\n",
      "Test accuracy: 0.8593000173568726\n",
      "random normal / sigmoid / adam 0.01 / L1\n",
      "Test loss: 2.257944107055664\n",
      "Test accuracy: 0.7526000142097473\n",
      "random normal / sigmoid / adam 0.01 / L2\n",
      "Test loss: 0.7161663770675659\n",
      "Test accuracy: 0.8044999837875366\n",
      "random normal / sigmoid / adam 0.01 / None\n",
      "Test loss: 0.418041855096817\n",
      "Test accuracy: 0.858299970626831\n",
      "random normal / tanh / RMSprop / L1\n",
      "Test loss: 16.22358512878418\n",
      "Test accuracy: 0.7365000247955322\n",
      "random normal / tanh / RMSprop / L2\n",
      "Test loss: 1.4022151231765747\n",
      "Test accuracy: 0.8382999897003174\n",
      "random normal / tanh / RMSprop / None\n",
      "Test loss: 0.5291839838027954\n",
      "Test accuracy: 0.8513000011444092\n",
      "random normal / tanh / adam default / L1\n",
      "Test loss: 2.0639638900756836\n",
      "Test accuracy: 0.7511000037193298\n",
      "random normal / tanh / adam default / L2\n",
      "Test loss: 0.5307016968727112\n",
      "Test accuracy: 0.8526999950408936\n",
      "random normal / tanh / adam default / None\n",
      "Test loss: 0.5056857466697693\n",
      "Test accuracy: 0.8457000255584717\n",
      "random normal / tanh / adam 0.01 / L1\n",
      "Test loss: 2.0542831420898438\n",
      "Test accuracy: 0.7746000289916992\n",
      "random normal / tanh / adam 0.01 / L2\n",
      "Test loss: 0.9958845973014832\n",
      "Test accuracy: 0.7993999719619751\n",
      "random normal / tanh / adam 0.01 / None\n",
      "Test loss: 0.4920322299003601\n",
      "Test accuracy: 0.8302000164985657\n",
      "glorot normal / relu / RMSprop / L1\n",
      "Test loss: 1.3884847164154053\n",
      "Test accuracy: 0.7746000289916992\n",
      "glorot normal / relu / RMSprop / L2\n",
      "Test loss: 0.5166516900062561\n",
      "Test accuracy: 0.8479999899864197\n",
      "glorot normal / relu / RMSprop / None\n",
      "Test loss: 0.3416885435581207\n",
      "Test accuracy: 0.8806999921798706\n",
      "glorot normal / relu / adam default / L1\n",
      "Test loss: 0.9586716890335083\n",
      "Test accuracy: 0.792900025844574\n",
      "glorot normal / relu / adam default / L2\n",
      "Test loss: 0.5095794200897217\n",
      "Test accuracy: 0.847000002861023\n",
      "glorot normal / relu / adam default / None\n",
      "Test loss: 0.3396506607532501\n",
      "Test accuracy: 0.8792999982833862\n",
      "glorot normal / relu / adam 0.01 / L1\n",
      "Test loss: 2.3427703380584717\n",
      "Test accuracy: 0.746399998664856\n",
      "glorot normal / relu / adam 0.01 / L2\n",
      "Test loss: 0.6283935308456421\n",
      "Test accuracy: 0.8116000294685364\n",
      "glorot normal / relu / adam 0.01 / None\n",
      "Test loss: 0.438508003950119\n",
      "Test accuracy: 0.8562999963760376\n",
      "glorot normal / sigmoid / RMSprop / L1\n",
      "Test loss: 1.5890522003173828\n",
      "Test accuracy: 0.6883000135421753\n",
      "glorot normal / sigmoid / RMSprop / L2\n",
      "Test loss: 0.708510160446167\n",
      "Test accuracy: 0.7979000210762024\n",
      "glorot normal / sigmoid / RMSprop / None\n",
      "Test loss: 0.3281277120113373\n",
      "Test accuracy: 0.885699987411499\n",
      "glorot normal / sigmoid / adam default / L1\n",
      "Test loss: 1.2104265689849854\n",
      "Test accuracy: 0.7300999760627747\n",
      "glorot normal / sigmoid / adam default / L2\n",
      "Test loss: 0.6501467227935791\n",
      "Test accuracy: 0.8141000270843506\n",
      "glorot normal / sigmoid / adam default / None\n",
      "Test loss: 0.32825767993927\n",
      "Test accuracy: 0.8834999799728394\n",
      "glorot normal / sigmoid / adam 0.01 / L1\n",
      "Test loss: 2.1773738861083984\n",
      "Test accuracy: 0.7567999958992004\n",
      "glorot normal / sigmoid / adam 0.01 / L2\n",
      "Test loss: 0.6867966651916504\n",
      "Test accuracy: 0.8090000152587891\n",
      "glorot normal / sigmoid / adam 0.01 / None\n",
      "Test loss: 0.3859742283821106\n",
      "Test accuracy: 0.8669000267982483\n",
      "glorot normal / tanh / RMSprop / L1\n",
      "Test loss: 1.4021598100662231\n",
      "Test accuracy: 0.7767000198364258\n",
      "glorot normal / tanh / RMSprop / L2\n",
      "Test loss: 0.5877199769020081\n",
      "Test accuracy: 0.826200008392334\n",
      "glorot normal / tanh / RMSprop / None\n",
      "Test loss: 0.35043880343437195\n",
      "Test accuracy: 0.8859000205993652\n",
      "glorot normal / tanh / adam default / L1\n",
      "Test loss: 0.951920211315155\n",
      "Test accuracy: 0.7968999743461609\n",
      "glorot normal / tanh / adam default / L2\n",
      "Test loss: 0.5568217039108276\n",
      "Test accuracy: 0.8338000178337097\n",
      "glorot normal / tanh / adam default / None\n",
      "Test loss: 0.3307642638683319\n",
      "Test accuracy: 0.8848000168800354\n",
      "glorot normal / tanh / adam 0.01 / L1\n",
      "Test loss: 2.1829683780670166\n",
      "Test accuracy: 0.7552000284194946\n",
      "glorot normal / tanh / adam 0.01 / L2\n",
      "Test loss: 0.7056740522384644\n",
      "Test accuracy: 0.8066999912261963\n",
      "glorot normal / tanh / adam 0.01 / None\n",
      "Test loss: 0.4729776978492737\n",
      "Test accuracy: 0.8361999988555908\n"
     ]
    }
   ],
   "source": [
    "score_lst = list()\n",
    "records = list()\n",
    "for trial in range(len(arg_dict)):\n",
    "    _, score = mlp_models(num_layers=2, arg_dict=arg_dict[trial], optimizer=arg_dict[trial][\"op\"], info=arg_dict[trial][\"info\"])\n",
    "    records.append(arg_dict[trial][\"info\"])\n",
    "    score_lst.append(score)"
   ]
  },
  {
   "cell_type": "code",
   "execution_count": 19,
   "id": "7b551888-cdaa-464c-a379-709404079386",
   "metadata": {},
   "outputs": [
    {
     "name": "stdout",
     "output_type": "stream",
     "text": [
      "Best Settings: glorot uniform / sigmoid / RMSprop / None.\n",
      "Best acc: 0.8888000249862671.\n"
     ]
    }
   ],
   "source": [
    "best = np.argmax(np.array(score_lst), axis=0)[1]\n",
    "print(f\"Best Settings: {records[best]}.\")\n",
    "print(f\"Best acc: {score_lst[best][1]}.\")"
   ]
  },
  {
   "cell_type": "code",
   "execution_count": 22,
   "id": "8ab22fb2-99af-48d3-85f4-347507ee6ad9",
   "metadata": {},
   "outputs": [
    {
     "name": "stdout",
     "output_type": "stream",
     "text": [
      "0.1\n",
      "Test loss: 0.33404281735420227\n",
      "Test accuracy: 0.8823999762535095\n",
      "0.3\n",
      "Test loss: 0.3318142592906952\n",
      "Test accuracy: 0.883400022983551\n",
      "0.5\n",
      "Test loss: 0.32462039589881897\n",
      "Test accuracy: 0.8871999979019165\n"
     ]
    }
   ],
   "source": [
    "# With dropout\n",
    "## Setting 1\n",
    "dropout_r = [0.1, 0.3, 0.5]\n",
    "arg_dict = {0: (128, \"sigmoid\", \"glorot_uniform\", None),\n",
    "            1: (10, \"softmax\", \"glorot_uniform\", None),\n",
    "            }\n",
    "info_lst = [\"0.1\", \"0.3\", \"0.5\"]\n",
    "for trial in range(3):\n",
    "    mlp_models(num_layers=2, arg_dict=arg_dict, dropout=True, dropout_lst=dropout_r, info=info_lst[trial])"
   ]
  },
  {
   "cell_type": "code",
   "execution_count": 24,
   "id": "0692c05d-ef65-4bc9-b080-69097214ae19",
   "metadata": {},
   "outputs": [
    {
     "name": "stdout",
     "output_type": "stream",
     "text": [
      "0.1\n",
      "Test loss: 0.35022810101509094\n",
      "Test accuracy: 0.8748999834060669\n",
      "0.3\n",
      "Test loss: 0.38686779141426086\n",
      "Test accuracy: 0.8919000029563904\n",
      "0.5\n",
      "Test loss: 0.3649497628211975\n",
      "Test accuracy: 0.887499988079071\n"
     ]
    }
   ],
   "source": [
    "## Setting 2\n",
    "dropout_r = [0.1, 0.3, 0.5]\n",
    "arg_dict = {0: (512, \"relu\", \"glorot_uniform\", None),\n",
    "            1: (10, \"softmax\", \"glorot_uniform\", None),\n",
    "            }\n",
    "info_lst = [\"0.1\", \"0.3\", \"0.5\"]\n",
    "for trial in range(3):\n",
    "    mlp_models(num_layers=2, arg_dict=arg_dict, dropout=True, dropout_lst=dropout_r, info=info_lst[trial])"
   ]
  },
  {
   "cell_type": "code",
   "execution_count": 25,
   "id": "f942f820-6bb2-45cf-a485-1cbcc63dc6b1",
   "metadata": {},
   "outputs": [
    {
     "name": "stdout",
     "output_type": "stream",
     "text": [
      "0.1\n",
      "Test loss: 0.34795081615448\n",
      "Test accuracy: 0.8891000151634216\n",
      "0.3\n",
      "Test loss: 0.35057082772254944\n",
      "Test accuracy: 0.8833000063896179\n",
      "0.5\n",
      "Test loss: 0.3354928195476532\n",
      "Test accuracy: 0.8844000101089478\n"
     ]
    }
   ],
   "source": [
    "## Setting 3\n",
    "dropout_r = [0.1, 0.3, 0.5]\n",
    "arg_dict = {0: (128, \"relu\", \"glorot_uniform\", None),\n",
    "            1: (10, \"softmax\", \"glorot_uniform\", None),\n",
    "            }\n",
    "info_lst = [\"0.1\", \"0.3\", \"0.5\"]\n",
    "for trial in range(3):\n",
    "    mlp_models(num_layers=2, arg_dict=arg_dict, dropout=True, dropout_lst=dropout_r, info=info_lst[trial])"
   ]
  },
  {
   "cell_type": "markdown",
   "id": "0dabdc74-9fae-4d5e-bff2-2d35d3a6fb70",
   "metadata": {},
   "source": [
    "### Fashion MNIST CNN"
   ]
  },
  {
   "cell_type": "markdown",
   "id": "fd35ca99-02dc-4d8e-b481-63aee8b357ae",
   "metadata": {},
   "source": [
    "#### CNN: Baseline (Example in the textbook)"
   ]
  },
  {
   "cell_type": "code",
   "execution_count": 2,
   "id": "14b8f9d2-ca42-4f36-97f7-a2124dc655dd",
   "metadata": {},
   "outputs": [
    {
     "name": "stdout",
     "output_type": "stream",
     "text": [
      "x_train shape: (60000, 28, 28, 1)\n",
      "60000 train samples\n",
      "10000 test samples\n"
     ]
    }
   ],
   "source": [
    "batch_size = 128\n",
    "num_classes = 10\n",
    "epochs = 30\n",
    "\n",
    "# input image dimensions\n",
    "img_rows, img_cols = 28, 28\n",
    "\n",
    "# the data, split between train and test sets\n",
    "(x_train, y_train), (x_test, y_test) = fashion_mnist.load_data()\n",
    "\n",
    "if K.image_data_format() == 'channels_first':\n",
    "    x_train = x_train.reshape(x_train.shape[0], 1, img_rows, img_cols)\n",
    "    x_test = x_test.reshape(x_test.shape[0], 1, img_rows, img_cols)\n",
    "    input_shape = (1, img_rows, img_cols)\n",
    "else:\n",
    "    x_train = x_train.reshape(x_train.shape[0], img_rows, img_cols, 1)\n",
    "    x_test = x_test.reshape(x_test.shape[0], img_rows, img_cols, 1)\n",
    "    input_shape = (img_rows, img_cols, 1)\n",
    "\n",
    "x_train = x_train.astype('float32')\n",
    "x_test = x_test.astype('float32')\n",
    "x_train /= 255\n",
    "x_test /= 255\n",
    "print('x_train shape:', x_train.shape)\n",
    "print(x_train.shape[0], 'train samples')\n",
    "print(x_test.shape[0], 'test samples')\n",
    "\n",
    "# convert class vectors to binary class matrices\n",
    "y_train = keras.utils.to_categorical(y_train, num_classes)\n",
    "y_test = keras.utils.to_categorical(y_test, num_classes)"
   ]
  },
  {
   "cell_type": "code",
   "execution_count": 7,
   "id": "17265cd3-5aaf-4078-98b6-bc105afb2e37",
   "metadata": {},
   "outputs": [
    {
     "name": "stdout",
     "output_type": "stream",
     "text": [
      "Model: \"sequential_1\"\n",
      "_________________________________________________________________\n",
      " Layer (type)                Output Shape              Param #   \n",
      "=================================================================\n",
      " conv2d (Conv2D)             (None, 28, 28, 64)        3200      \n",
      "                                                                 \n",
      " max_pooling2d (MaxPooling2D  (None, 14, 14, 64)       0         \n",
      " )                                                               \n",
      "                                                                 \n",
      " conv2d_1 (Conv2D)           (None, 14, 14, 128)       73856     \n",
      "                                                                 \n",
      " conv2d_2 (Conv2D)           (None, 14, 14, 128)       147584    \n",
      "                                                                 \n",
      " max_pooling2d_1 (MaxPooling  (None, 7, 7, 128)        0         \n",
      " 2D)                                                             \n",
      "                                                                 \n",
      " conv2d_3 (Conv2D)           (None, 7, 7, 256)         295168    \n",
      "                                                                 \n",
      " conv2d_4 (Conv2D)           (None, 7, 7, 256)         590080    \n",
      "                                                                 \n",
      " max_pooling2d_2 (MaxPooling  (None, 3, 3, 256)        0         \n",
      " 2D)                                                             \n",
      "                                                                 \n",
      " flatten (Flatten)           (None, 2304)              0         \n",
      "                                                                 \n",
      " dense_3 (Dense)             (None, 128)               295040    \n",
      "                                                                 \n",
      " dropout (Dropout)           (None, 128)               0         \n",
      "                                                                 \n",
      " dense_4 (Dense)             (None, 64)                8256      \n",
      "                                                                 \n",
      " dropout_1 (Dropout)         (None, 64)                0         \n",
      "                                                                 \n",
      " dense_5 (Dense)             (None, 10)                650       \n",
      "                                                                 \n",
      "=================================================================\n",
      "Total params: 1,413,834\n",
      "Trainable params: 1,413,834\n",
      "Non-trainable params: 0\n",
      "_________________________________________________________________\n"
     ]
    }
   ],
   "source": [
    "model = keras.models.Sequential([ \n",
    "  keras.layers.Conv2D(64, 7, activation=\"relu\", padding=\"same\", input_shape=[28, 28, 1]),\n",
    "  keras.layers.MaxPooling2D(2),\n",
    "  keras.layers.Conv2D(128, 3, activation=\"relu\", padding=\"same\"),\n",
    "  keras.layers.Conv2D(128, 3, activation=\"relu\", padding=\"same\"), \n",
    "  keras.layers.MaxPooling2D(2), \n",
    "  keras.layers.Conv2D(256, 3, activation=\"relu\", padding=\"same\"), \n",
    "  keras.layers.Conv2D(256, 3, activation=\"relu\", padding=\"same\"), \n",
    "  keras.layers.MaxPooling2D(2), keras.layers.Flatten(),\n",
    "  keras.layers.Dense(128, activation=\"relu\"), \n",
    "  keras.layers.Dropout(0.5), \n",
    "  keras.layers.Dense(64, activation=\"relu\"), \n",
    "  keras.layers.Dropout(0.5),\n",
    "  keras.layers.Dense(10, activation=\"softmax\") \n",
    "])\n",
    "\n",
    "model.summary()"
   ]
  },
  {
   "cell_type": "code",
   "execution_count": 9,
   "id": "9a41587a-7a0a-4aba-9692-d1cd6f3a7615",
   "metadata": {},
   "outputs": [
    {
     "name": "stdout",
     "output_type": "stream",
     "text": [
      "Epoch 1/30\n",
      "375/375 [==============================] - 7s 16ms/step - loss: 0.2720 - accuracy: 0.9116 - val_loss: 0.2696 - val_accuracy: 0.9054\n",
      "Epoch 2/30\n",
      "375/375 [==============================] - 6s 15ms/step - loss: 0.2561 - accuracy: 0.9172 - val_loss: 0.3072 - val_accuracy: 0.9113\n",
      "Epoch 3/30\n",
      "375/375 [==============================] - 6s 15ms/step - loss: 0.2519 - accuracy: 0.9180 - val_loss: 0.2757 - val_accuracy: 0.9093\n",
      "Epoch 4/30\n",
      "375/375 [==============================] - 6s 15ms/step - loss: 0.2480 - accuracy: 0.9199 - val_loss: 0.3042 - val_accuracy: 0.9050\n",
      "Epoch 5/30\n",
      "375/375 [==============================] - 6s 15ms/step - loss: 0.2508 - accuracy: 0.9205 - val_loss: 0.2742 - val_accuracy: 0.9133\n",
      "Epoch 6/30\n",
      "375/375 [==============================] - 6s 15ms/step - loss: 0.2428 - accuracy: 0.9206 - val_loss: 0.2810 - val_accuracy: 0.9142\n",
      "Epoch 7/30\n",
      "375/375 [==============================] - 6s 15ms/step - loss: 0.2450 - accuracy: 0.9215 - val_loss: 0.2821 - val_accuracy: 0.9122\n",
      "Epoch 8/30\n",
      "375/375 [==============================] - 6s 15ms/step - loss: 0.2482 - accuracy: 0.9223 - val_loss: 0.3653 - val_accuracy: 0.9034\n",
      "Epoch 9/30\n",
      "375/375 [==============================] - 6s 15ms/step - loss: 0.3011 - accuracy: 0.9189 - val_loss: 0.3672 - val_accuracy: 0.9175\n",
      "Epoch 10/30\n",
      "375/375 [==============================] - 6s 15ms/step - loss: 0.2588 - accuracy: 0.9202 - val_loss: 0.3224 - val_accuracy: 0.9130\n",
      "Epoch 11/30\n",
      "375/375 [==============================] - 6s 15ms/step - loss: 0.3248 - accuracy: 0.9216 - val_loss: 0.4326 - val_accuracy: 0.8996\n",
      "Epoch 12/30\n",
      "375/375 [==============================] - 6s 15ms/step - loss: 0.2568 - accuracy: 0.9179 - val_loss: 0.3022 - val_accuracy: 0.8989\n",
      "Epoch 13/30\n",
      "375/375 [==============================] - 6s 15ms/step - loss: 0.2891 - accuracy: 0.9201 - val_loss: 0.2704 - val_accuracy: 0.9035\n",
      "Epoch 14/30\n",
      "375/375 [==============================] - 6s 15ms/step - loss: 0.2686 - accuracy: 0.9161 - val_loss: 0.2774 - val_accuracy: 0.9075\n",
      "Epoch 15/30\n",
      "375/375 [==============================] - 6s 15ms/step - loss: 0.2711 - accuracy: 0.9147 - val_loss: 0.2944 - val_accuracy: 0.9068\n",
      "Epoch 16/30\n",
      "375/375 [==============================] - 6s 15ms/step - loss: 0.2903 - accuracy: 0.9131 - val_loss: 0.3606 - val_accuracy: 0.9135\n",
      "Epoch 17/30\n",
      "375/375 [==============================] - 6s 15ms/step - loss: 0.3302 - accuracy: 0.9115 - val_loss: 0.2952 - val_accuracy: 0.9097\n",
      "Epoch 18/30\n",
      "375/375 [==============================] - 6s 15ms/step - loss: 0.2790 - accuracy: 0.9151 - val_loss: 0.2759 - val_accuracy: 0.9028\n",
      "Epoch 19/30\n",
      "375/375 [==============================] - 6s 15ms/step - loss: 0.3594 - accuracy: 0.9100 - val_loss: 0.3270 - val_accuracy: 0.9007\n",
      "Epoch 20/30\n",
      "375/375 [==============================] - 6s 15ms/step - loss: 0.3229 - accuracy: 0.9094 - val_loss: 0.3254 - val_accuracy: 0.9066\n",
      "Epoch 21/30\n",
      "375/375 [==============================] - 6s 15ms/step - loss: 0.2940 - accuracy: 0.9108 - val_loss: 0.3129 - val_accuracy: 0.9047\n",
      "Epoch 22/30\n",
      "375/375 [==============================] - 6s 15ms/step - loss: 0.3161 - accuracy: 0.9067 - val_loss: 0.4386 - val_accuracy: 0.8934\n",
      "Epoch 23/30\n",
      "375/375 [==============================] - 6s 15ms/step - loss: 0.3215 - accuracy: 0.9074 - val_loss: 0.3459 - val_accuracy: 0.8832\n",
      "Epoch 24/30\n",
      "375/375 [==============================] - 6s 15ms/step - loss: 0.3311 - accuracy: 0.9051 - val_loss: 0.4086 - val_accuracy: 0.8975\n",
      "Epoch 25/30\n",
      "375/375 [==============================] - 6s 15ms/step - loss: 0.3163 - accuracy: 0.9055 - val_loss: 0.3267 - val_accuracy: 0.8900\n",
      "Epoch 26/30\n",
      "375/375 [==============================] - 6s 15ms/step - loss: 19.5931 - accuracy: 0.8949 - val_loss: 0.3560 - val_accuracy: 0.8742\n",
      "Epoch 27/30\n",
      "375/375 [==============================] - 6s 15ms/step - loss: 0.3323 - accuracy: 0.8996 - val_loss: 0.3124 - val_accuracy: 0.9067\n",
      "Epoch 28/30\n",
      "375/375 [==============================] - 6s 15ms/step - loss: 0.3353 - accuracy: 0.9009 - val_loss: 0.6604 - val_accuracy: 0.8856\n",
      "Epoch 29/30\n",
      "375/375 [==============================] - 6s 15ms/step - loss: 0.3262 - accuracy: 0.9016 - val_loss: 0.3110 - val_accuracy: 0.9014\n",
      "Epoch 30/30\n",
      "375/375 [==============================] - 6s 15ms/step - loss: 0.3406 - accuracy: 0.8980 - val_loss: 0.3074 - val_accuracy: 0.8957\n",
      "Test loss: 0.33298230171203613\n",
      "Test accuracy: 0.8909000158309937\n"
     ]
    }
   ],
   "source": [
    "model.compile(loss='categorical_crossentropy',\n",
    "              optimizer=RMSprop(),\n",
    "              metrics=['accuracy'])\n",
    "history = model.fit(x_train, y_train,\n",
    "                    batch_size=batch_size,\n",
    "                    epochs=epochs,\n",
    "                    verbose=1,\n",
    "                    validation_split=0.2)\n",
    "score = model.evaluate(x_test, y_test, verbose=0)\n",
    "print('Test loss:', score[0])\n",
    "print('Test accuracy:', score[1])"
   ]
  },
  {
   "cell_type": "markdown",
   "id": "42d164b9-5e00-4dac-a741-85dfa4bb0831",
   "metadata": {},
   "source": [
    "#### Experiments with CNN network"
   ]
  },
  {
   "cell_type": "markdown",
   "id": "d0e1ffd8-b74e-4bcb-ad5b-9a86e4e95495",
   "metadata": {},
   "source": [
    "##### Architecture: Adding / removing layers"
   ]
  },
  {
   "cell_type": "code",
   "execution_count": 6,
   "id": "45eaef63-607c-47c8-9167-86d125541fce",
   "metadata": {},
   "outputs": [
    {
     "name": "stdout",
     "output_type": "stream",
     "text": [
      "Baseline\n",
      "Test loss: 0.2642196714878082\n",
      "Test accuracy: 0.9108999967575073\n",
      "Remove layers\n",
      "Test loss: 0.33600562810897827\n",
      "Test accuracy: 0.910099983215332\n",
      "Add layers\n",
      "Test loss: 0.31048905849456787\n",
      "Test accuracy: 0.906000018119812\n"
     ]
    }
   ],
   "source": [
    "batch_size = 128\n",
    "epochs = 50\n",
    "\n",
    "model_checkpoint_callback1 = tf.keras.callbacks.ModelCheckpoint(\n",
    "    filepath=\"./temp.hdf5\",\n",
    "    save_weights_only=True,\n",
    "    monitor='val_accuracy',\n",
    "    mode='max',\n",
    "    save_best_only=True)\n",
    "\n",
    "early_callback1 = tf.keras.callbacks.EarlyStopping(monitor=\"val_accuracy\", patience=5)\n",
    "\n",
    "model1 = keras.models.Sequential([ \n",
    "  keras.layers.Conv2D(64, 7, activation=\"relu\", padding=\"same\", input_shape=[28, 28, 1]),\n",
    "  keras.layers.MaxPooling2D(2),\n",
    "  keras.layers.Conv2D(128, 3, activation=\"relu\", padding=\"same\"),\n",
    "  keras.layers.Conv2D(128, 3, activation=\"relu\", padding=\"same\"), \n",
    "  keras.layers.MaxPooling2D(2), \n",
    "  keras.layers.Conv2D(256, 3, activation=\"relu\", padding=\"same\"), \n",
    "  keras.layers.Conv2D(256, 3, activation=\"relu\", padding=\"same\"), \n",
    "  keras.layers.MaxPooling2D(2), keras.layers.Flatten(),\n",
    "  keras.layers.Dense(128, activation=\"relu\"), \n",
    "  keras.layers.Dropout(0.5), \n",
    "  keras.layers.Dense(64, activation=\"relu\"), \n",
    "  keras.layers.Dropout(0.5),\n",
    "  keras.layers.Dense(10, activation=\"softmax\") \n",
    "])\n",
    "\n",
    "model1.compile(loss='categorical_crossentropy',\n",
    "              optimizer=RMSprop(),\n",
    "              metrics=['accuracy'])\n",
    "history1 = model1.fit(x_train, y_train,\n",
    "                    batch_size=batch_size,\n",
    "                    epochs=epochs,\n",
    "                    verbose=0,\n",
    "                    validation_split=0.2,\n",
    "                    callbacks=[model_checkpoint_callback1, early_callback1])\n",
    "model1.load_weights(\"./temp.hdf5\")\n",
    "score = model1.evaluate(x_test, y_test, verbose=0)\n",
    "print('Baseline')\n",
    "print('Test loss:', score[0])\n",
    "print('Test accuracy:', score[1])\n",
    "\n",
    "# Remove layers\n",
    "model2 = keras.models.Sequential([ \n",
    "  keras.layers.Conv2D(64, 7, activation=\"relu\", padding=\"same\", input_shape=[28, 28, 1]),\n",
    "  keras.layers.MaxPooling2D(2),\n",
    "  keras.layers.Conv2D(128, 3, activation=\"relu\", padding=\"same\"), \n",
    "  keras.layers.MaxPooling2D(2), \n",
    "  keras.layers.Conv2D(256, 3, activation=\"relu\", padding=\"same\"), \n",
    "  keras.layers.MaxPooling2D(2), keras.layers.Flatten(),\n",
    "  keras.layers.Dense(128, activation=\"relu\"), \n",
    "  keras.layers.Dropout(0.5), \n",
    "  keras.layers.Dense(64, activation=\"relu\"), \n",
    "  keras.layers.Dropout(0.5),\n",
    "  keras.layers.Dense(10, activation=\"softmax\") \n",
    "])\n",
    "\n",
    "model_checkpoint_callback2 = tf.keras.callbacks.ModelCheckpoint(\n",
    "    filepath=\"./temp.hdf5\",\n",
    "    save_weights_only=True,\n",
    "    monitor='val_accuracy',\n",
    "    mode='max',\n",
    "    save_best_only=True)\n",
    "\n",
    "early_callback2 = tf.keras.callbacks.EarlyStopping(monitor=\"val_accuracy\", patience=5)\n",
    "\n",
    "model2.compile(loss='categorical_crossentropy',\n",
    "              optimizer=RMSprop(),\n",
    "              metrics=['accuracy'])\n",
    "history2 = model2.fit(x_train, y_train,\n",
    "                    batch_size=batch_size,\n",
    "                    epochs=epochs,\n",
    "                    verbose=0,\n",
    "                    validation_split=0.2,\n",
    "                    callbacks=[model_checkpoint_callback2, early_callback2])\n",
    "model2.load_weights(\"./temp.hdf5\")\n",
    "score = model2.evaluate(x_test, y_test, verbose=0)\n",
    "print('Remove layers')\n",
    "print('Test loss:', score[0])\n",
    "print('Test accuracy:', score[1])\n",
    "\n",
    "# Add layers\n",
    "model3 = keras.models.Sequential([ \n",
    "  keras.layers.Conv2D(64, 7, activation=\"relu\", padding=\"same\", input_shape=[28, 28, 1]),\n",
    "  keras.layers.Conv2D(64, 7, activation=\"relu\", padding=\"same\"),\n",
    "  keras.layers.MaxPooling2D(2),\n",
    "  keras.layers.Conv2D(128, 3, activation=\"relu\", padding=\"same\"),\n",
    "  keras.layers.Conv2D(128, 3, activation=\"relu\", padding=\"same\"), \n",
    "  keras.layers.MaxPooling2D(2), \n",
    "  keras.layers.Conv2D(256, 3, activation=\"relu\", padding=\"same\"), \n",
    "  keras.layers.Conv2D(256, 3, activation=\"relu\", padding=\"same\"), \n",
    "  keras.layers.MaxPooling2D(2), keras.layers.Flatten(),\n",
    "  keras.layers.Dense(128, activation=\"relu\"), \n",
    "  keras.layers.Dropout(0.5), \n",
    "  keras.layers.Dense(64, activation=\"relu\"), \n",
    "  keras.layers.Dropout(0.5),\n",
    "  keras.layers.Dense(10, activation=\"softmax\") \n",
    "])\n",
    "\n",
    "model_checkpoint_callback3 = tf.keras.callbacks.ModelCheckpoint(\n",
    "    filepath=\"./temp.hdf5\",\n",
    "    save_weights_only=True,\n",
    "    monitor='val_accuracy',\n",
    "    mode='max',\n",
    "    save_best_only=True)\n",
    "\n",
    "early_callback3 = tf.keras.callbacks.EarlyStopping(monitor=\"val_accuracy\", patience=5)\n",
    "\n",
    "model3.compile(loss='categorical_crossentropy',\n",
    "              optimizer=RMSprop(),\n",
    "              metrics=['accuracy'])\n",
    "history3 = model3.fit(x_train, y_train,\n",
    "                    batch_size=batch_size,\n",
    "                    epochs=epochs,\n",
    "                    verbose=0,\n",
    "                    validation_split=0.2,\n",
    "                    callbacks=[model_checkpoint_callback3, early_callback3])\n",
    "model3.load_weights(\"./temp.hdf5\")\n",
    "score = model3.evaluate(x_test, y_test, verbose=0)\n",
    "print('Add layers')\n",
    "print('Test loss:', score[0])\n",
    "print('Test accuracy:', score[1])"
   ]
  },
  {
   "cell_type": "code",
   "execution_count": 9,
   "id": "bdbbb0fb-3ccf-49c3-8a16-8b90703daeee",
   "metadata": {},
   "outputs": [
    {
     "data": {
      "image/png": "[encoded data removed]",
      "text/plain": [
       "<Figure size 576x360 with 1 Axes>"
      ]
     },
     "metadata": {
      "needs_background": "light"
     },
     "output_type": "display_data"
    }
   ],
   "source": [
    "plt.rcParams[\"figure.figsize\"] = (8, 5)\n",
    "history_lst = [history1.history, history2.history, history3.history]\n",
    "info_lst = [\"Baseline\", \"Remove layers\", \"Add layers\"]\n",
    "\n",
    "for index in range(len(history_lst)):\n",
    "    acc = history_lst[index][\"val_accuracy\"]\n",
    "    plt.plot(list(range(1, len(acc) + 1)), acc, label=f\"{info_lst[index]}\")\n",
    "plt.legend()\n",
    "plt.xlabel(\"epoch\")\n",
    "plt.ylabel(\"val_acc\")\n",
    "plt.title(\"Validation Acc\")\n",
    "plt.show()"
   ]
  },
  {
   "cell_type": "markdown",
   "id": "e8740134-6e83-4567-8e69-a333e955c32a",
   "metadata": {},
   "source": [
    "##### Architecture: Number of filters"
   ]
  },
  {
   "cell_type": "code",
   "execution_count": 15,
   "id": "beba3ab9-32e2-4edb-912a-b79494604241",
   "metadata": {},
   "outputs": [],
   "source": [
    "def cnn_models(filter_set=(64, 128, 256), dropout_set=(0.5, 0.5), optimizer=RMSprop(), info=\"\"):\n",
    "    print(info)\n",
    "    K.clear_session()\n",
    "    model = keras.models.Sequential([ \n",
    "      keras.layers.Conv2D(filter_set[0], 7, activation=\"relu\", padding=\"same\", input_shape=[28, 28, 1]),\n",
    "      keras.layers.MaxPooling2D(2),\n",
    "      keras.layers.Conv2D(filter_set[1], 3, activation=\"relu\", padding=\"same\"),\n",
    "      keras.layers.Conv2D(filter_set[1], 3, activation=\"relu\", padding=\"same\"), \n",
    "      keras.layers.MaxPooling2D(2), \n",
    "      keras.layers.Conv2D(filter_set[2], 3, activation=\"relu\", padding=\"same\"), \n",
    "      keras.layers.Conv2D(filter_set[2], 3, activation=\"relu\", padding=\"same\"), \n",
    "      keras.layers.MaxPooling2D(2), keras.layers.Flatten(),\n",
    "      keras.layers.Dense(128, activation=\"relu\"), \n",
    "      keras.layers.Dropout(dropout_set[0]), \n",
    "      keras.layers.Dense(64, activation=\"relu\"), \n",
    "      keras.layers.Dropout(dropout_set[1]),\n",
    "      keras.layers.Dense(10, activation=\"softmax\") \n",
    "    ])\n",
    "    model_checkpoint_callback = tf.keras.callbacks.ModelCheckpoint(\n",
    "            filepath=\"./temp.hdf5\",\n",
    "            save_weights_only=True,\n",
    "            monitor='val_accuracy',\n",
    "            mode='max',\n",
    "            save_best_only=True\n",
    "    )\n",
    "\n",
    "    early_callback = tf.keras.callbacks.EarlyStopping(monitor=\"val_accuracy\", patience=5)\n",
    "\n",
    "    model.compile(loss='categorical_crossentropy',\n",
    "                  optimizer=optimizer,\n",
    "                  metrics=['accuracy'])\n",
    "    history = model.fit(x_train, y_train,\n",
    "                        batch_size=batch_size,\n",
    "                        epochs=epochs,\n",
    "                        verbose=0,\n",
    "                        validation_split=0.2,\n",
    "                        callbacks=[model_checkpoint_callback, early_callback])\n",
    "    model.load_weights(\"./temp.hdf5\")\n",
    "    score = model.evaluate(x_test, y_test, verbose=0)\n",
    "    print('Test loss:', score[0])\n",
    "    print('Test accuracy:', score[1])\n",
    "    return history, score"
   ]
  },
  {
   "cell_type": "code",
   "execution_count": 16,
   "id": "4b3c16d2-3dca-4121-8331-305d5b420cce",
   "metadata": {},
   "outputs": [
    {
     "name": "stdout",
     "output_type": "stream",
     "text": [
      "(64, 128, 128, 256, 256)\n",
      "Test loss: 0.27673131227493286\n",
      "Test accuracy: 0.9093999862670898\n",
      "(32, 64, 64, 128, 128)\n",
      "Test loss: 0.2916443347930908\n",
      "Test accuracy: 0.9093999862670898\n",
      "(128, 256, 256, 512, 512)\n",
      "Test loss: 0.2906615436077118\n",
      "Test accuracy: 0.90420001745224\n"
     ]
    }
   ],
   "source": [
    "filters = [(64, 128, 256), (32, 64, 128), (128, 256, 512)]\n",
    "history_lst = list()\n",
    "info_lst = [\"(64, 128, 128, 256, 256)\", \"(32, 64, 64, 128, 128)\", \"(128, 256, 256, 512, 512)\"]\n",
    "for trial in range(3):\n",
    "    his, _ = cnn_models(filter_set=filters[trial], info=info_lst[trial])\n",
    "    history_lst.append(his)"
   ]
  },
  {
   "cell_type": "code",
   "execution_count": 18,
   "id": "7a6b76a4-46b8-4c81-b668-fa1892fec61b",
   "metadata": {},
   "outputs": [
    {
     "data": {
      "image/png": "[encoded data removed]",
      "text/plain": [
       "<Figure size 576x360 with 1 Axes>"
      ]
     },
     "metadata": {
      "needs_background": "light"
     },
     "output_type": "display_data"
    }
   ],
   "source": [
    "plt.rcParams[\"figure.figsize\"] = (8, 5)\n",
    "for index in range(len(history_lst)):\n",
    "    acc = history_lst[index].history[\"val_accuracy\"]\n",
    "    plt.plot(list(range(1, len(acc) + 1)), acc, label=f\"{info_lst[index]}\")\n",
    "plt.legend()\n",
    "plt.xlabel(\"epoch\")\n",
    "plt.ylabel(\"val_acc\")\n",
    "plt.title(\"Validation Acc\")\n",
    "plt.show()"
   ]
  },
  {
   "cell_type": "markdown",
   "id": "b1c3d695-32ab-4658-be98-fe027780c409",
   "metadata": {},
   "source": [
    "##### Regularizations"
   ]
  },
  {
   "cell_type": "code",
   "execution_count": 19,
   "id": "8d98e8e6-b3ef-4d11-8c0f-3b0dd7e9a9cc",
   "metadata": {},
   "outputs": [
    {
     "name": "stdout",
     "output_type": "stream",
     "text": [
      "(0.5, 0.5)\n",
      "Test loss: 0.37126895785331726\n",
      "Test accuracy: 0.9104999899864197\n",
      "(0.3, 0.3)\n",
      "Test loss: 0.36127129197120667\n",
      "Test accuracy: 0.9175000190734863\n",
      "(0.1, 0.1)\n",
      "Test loss: 0.3278583884239197\n",
      "Test accuracy: 0.9182999730110168\n"
     ]
    }
   ],
   "source": [
    "# Dropout rate\n",
    "dropout_r = [(0.5, 0.5), (0.3, 0.3), (0.1, 0.1)]\n",
    "history_lst = list()\n",
    "info_lst = [\"(0.5, 0.5)\", \"(0.3, 0.3)\", \"(0.1, 0.1)\"]\n",
    "for trial in range(3):\n",
    "    his, _ = cnn_models(filter_set=(32, 64, 128), dropout_set=dropout_r[trial], info=info_lst[trial])\n",
    "    history_lst.append(his)"
   ]
  },
  {
   "cell_type": "code",
   "execution_count": 20,
   "id": "7ee50835-a7cd-425e-ac8e-387cceced6b0",
   "metadata": {},
   "outputs": [
    {
     "data": {
      "image/png": "[encoded data removed]",
      "text/plain": [
       "<Figure size 576x360 with 1 Axes>"
      ]
     },
     "metadata": {
      "needs_background": "light"
     },
     "output_type": "display_data"
    }
   ],
   "source": [
    "for index in range(len(history_lst)):\n",
    "    acc = history_lst[index].history[\"val_accuracy\"]\n",
    "    plt.plot(list(range(1, len(acc) + 1)), acc, label=f\"{info_lst[index]}\")\n",
    "plt.legend()\n",
    "plt.xlabel(\"epoch\")\n",
    "plt.ylabel(\"val_acc\")\n",
    "plt.title(\"Validation Acc\")\n",
    "plt.show()"
   ]
  },
  {
   "cell_type": "code",
   "execution_count": 22,
   "id": "4522e215-f4af-40f2-b531-e36f84021564",
   "metadata": {},
   "outputs": [
    {
     "name": "stdout",
     "output_type": "stream",
     "text": [
      "RMSprop\n",
      "Test loss: 0.2767595052719116\n",
      "Test accuracy: 0.9110999703407288\n",
      "adam default\n",
      "Test loss: 0.40711092948913574\n",
      "Test accuracy: 0.9115999937057495\n",
      "adam 0.01\n",
      "Test loss: 0.3657534122467041\n",
      "Test accuracy: 0.873199999332428\n"
     ]
    }
   ],
   "source": [
    "optimizer_lst = [tf.keras.optimizers.RMSprop(),\n",
    "                 tf.keras.optimizers.Adam(),\n",
    "                 tf.keras.optimizers.Adam(learning_rate=0.01),\n",
    "                 ]\n",
    "info_lst = [\"RMSprop\", \"adam default\", \"adam 0.01\"]\n",
    "history_lst = list()\n",
    "for trial in range(3):\n",
    "    his, _ = cnn_models(filter_set=(32, 64, 128), dropout_set=(0.1, 0.1), optimizer=optimizer_lst[trial], info=info_lst[trial])\n",
    "    history_lst.append(his)"
   ]
  },
  {
   "cell_type": "code",
   "execution_count": 23,
   "id": "df9d85db-9055-4ca4-a419-63031cb82a33",
   "metadata": {},
   "outputs": [
    {
     "data": {
      "image/png": "[encoded data removed]",
      "text/plain": [
       "<Figure size 576x360 with 1 Axes>"
      ]
     },
     "metadata": {
      "needs_background": "light"
     },
     "output_type": "display_data"
    }
   ],
   "source": [
    "for index in range(len(history_lst)):\n",
    "    acc = history_lst[index].history[\"val_accuracy\"]\n",
    "    plt.plot(list(range(1, len(acc) + 1)), acc, label=f\"{info_lst[index]}\")\n",
    "plt.legend()\n",
    "plt.xlabel(\"epoch\")\n",
    "plt.ylabel(\"val_acc\")\n",
    "plt.title(\"Validation Acc\")\n",
    "plt.show()"
   ]
  },
  {
   "cell_type": "markdown",
   "id": "6c0d0d3c-bee0-4a81-ae7d-6123896905b1",
   "metadata": {},
   "source": [
    "#### Top three hyperparameter settings"
   ]
  },
  {
   "cell_type": "markdown",
   "id": "07117037-750c-41e7-9007-4ab2d0e78b82",
   "metadata": {},
   "source": [
    "**MLP**\n",
    "\n",
    "1. Test acc: 0.892. Two layers, units: (512, 10), activations: \"relu\", initializations: \"glorot_uniform\", optimizer: RMSprop, Dropout: 0.3.\n",
    "\n",
    "2. Test acc: 0.891. Two layers, units: (512, 10), activations: \"relu\", initializations: \"glorot_uniform\", optimizer: RMSprop, Dropout: None.\n",
    "\n",
    "3. Test acc: 0.889. Two layers, units: (128, 10), activations: \"relu\", initializations: \"glorot_uniform\", optimizer: RMSprop, Dropout: 0.1.\n",
    "\n",
    "**CNN**\n",
    "\n",
    "1. Test acc: 0.918. filters: (32, 64, 64, 128, 128), optimizer: RMSprop, Dropout: (0.1, 0.1).\n",
    "\n",
    "2. Test acc: 0.912. filters: (32, 64, 64, 128, 128), optimizer: Adam, Dropout: (0.1, 0.1).\n",
    "\n",
    "3. Test acc: 0.909. filters: (32, 64, 64, 128, 128), optimizer: RMSprop, Dropout: (0.5, 0.5)."
   ]
  },
  {
   "cell_type": "markdown",
   "id": "b6843202-ec22-460f-9132-b287651f3ee8",
   "metadata": {},
   "source": [
    "### CIFAR-10 MLP"
   ]
  },
  {
   "cell_type": "markdown",
   "id": "eb9f2b0c-7f5e-4a5e-b446-1babcc5916c0",
   "metadata": {},
   "source": [
    "#### MLP: Baseline (Example in the textbook)"
   ]
  },
  {
   "cell_type": "code",
   "execution_count": 2,
   "id": "4aba28fa-38c3-470b-a737-cac51fb6c8d4",
   "metadata": {},
   "outputs": [],
   "source": [
    "batch_size = 128\n",
    "num_classes = 10\n",
    "epochs = 30\n",
    "\n",
    "# the data, split between train and test sets\n",
    "(x_train, y_train), (x_test, y_test) = cifar10.load_data()"
   ]
  },
  {
   "cell_type": "code",
   "execution_count": 5,
   "id": "e401ba11-2c89-4731-affc-fad3cc6eb6c0",
   "metadata": {},
   "outputs": [
    {
     "name": "stdout",
     "output_type": "stream",
     "text": [
      "50000 train samples\n",
      "10000 test samples\n"
     ]
    }
   ],
   "source": [
    "x_train = x_train.reshape(50000, -1)\n",
    "x_test = x_test.reshape(10000, -1)\n",
    "x_train = x_train.astype('float32')\n",
    "x_test = x_test.astype('float32')\n",
    "x_train /= 255\n",
    "x_test /= 255\n",
    "print(x_train.shape[0], 'train samples')\n",
    "print(x_test.shape[0], 'test samples')\n",
    "\n",
    "# convert class vectors to binary class matrices\n",
    "y_train = keras.utils.to_categorical(y_train, num_classes)\n",
    "y_test = keras.utils.to_categorical(y_test, num_classes)"
   ]
  },
  {
   "cell_type": "code",
   "execution_count": 7,
   "id": "5723e0d0-f453-4fde-8fdc-85229f4064e6",
   "metadata": {},
   "outputs": [
    {
     "name": "stdout",
     "output_type": "stream",
     "text": [
      "Model: \"sequential_1\"\n",
      "_________________________________________________________________\n",
      " Layer (type)                Output Shape              Param #   \n",
      "=================================================================\n",
      " flatten_1 (Flatten)         (None, 3072)              0         \n",
      "                                                                 \n",
      " dense_3 (Dense)             (None, 300)               921900    \n",
      "                                                                 \n",
      " dense_4 (Dense)             (None, 100)               30100     \n",
      "                                                                 \n",
      " dense_5 (Dense)             (None, 10)                1010      \n",
      "                                                                 \n",
      "=================================================================\n",
      "Total params: 953,010\n",
      "Trainable params: 953,010\n",
      "Non-trainable params: 0\n",
      "_________________________________________________________________\n"
     ]
    }
   ],
   "source": [
    "model = keras.models.Sequential()\n",
    "model.add(keras.layers.Flatten(input_shape=[3072,]))\n",
    "model.add(keras.layers.Dense(300, activation=\"relu\"))\n",
    "model.add(keras.layers.Dense(100, activation=\"relu\"))\n",
    "model.add(keras.layers.Dense(10, activation=\"softmax\"))\n",
    "model.summary()"
   ]
  },
  {
   "cell_type": "code",
   "execution_count": 8,
   "id": "1cb965b5-722a-4ab4-ad36-1629e8427768",
   "metadata": {},
   "outputs": [
    {
     "name": "stdout",
     "output_type": "stream",
     "text": [
      "Epoch 1/30\n",
      "391/391 [==============================] - 3s 6ms/step - loss: 2.1377 - accuracy: 0.2588 - val_loss: 1.8423 - val_accuracy: 0.3465\n",
      "Epoch 2/30\n",
      "391/391 [==============================] - 2s 5ms/step - loss: 1.8010 - accuracy: 0.3554 - val_loss: 1.7151 - val_accuracy: 0.3801\n",
      "Epoch 3/30\n",
      "391/391 [==============================] - 2s 5ms/step - loss: 1.7085 - accuracy: 0.3878 - val_loss: 1.6184 - val_accuracy: 0.4248\n",
      "Epoch 4/30\n",
      "391/391 [==============================] - 2s 5ms/step - loss: 1.6420 - accuracy: 0.4150 - val_loss: 1.6745 - val_accuracy: 0.4115\n",
      "Epoch 5/30\n",
      "391/391 [==============================] - 2s 5ms/step - loss: 1.5967 - accuracy: 0.4316 - val_loss: 1.5507 - val_accuracy: 0.4498\n",
      "Epoch 6/30\n",
      "391/391 [==============================] - 2s 5ms/step - loss: 1.5573 - accuracy: 0.4451 - val_loss: 1.5546 - val_accuracy: 0.4417\n",
      "Epoch 7/30\n",
      "391/391 [==============================] - 2s 5ms/step - loss: 1.5312 - accuracy: 0.4582 - val_loss: 1.4891 - val_accuracy: 0.4737\n",
      "Epoch 8/30\n",
      "391/391 [==============================] - 2s 5ms/step - loss: 1.5019 - accuracy: 0.4685 - val_loss: 1.5905 - val_accuracy: 0.4363\n",
      "Epoch 9/30\n",
      "391/391 [==============================] - 2s 5ms/step - loss: 1.4805 - accuracy: 0.4749 - val_loss: 1.6961 - val_accuracy: 0.4135\n",
      "Epoch 10/30\n",
      "391/391 [==============================] - 2s 5ms/step - loss: 1.4579 - accuracy: 0.4819 - val_loss: 1.4724 - val_accuracy: 0.4795\n",
      "Epoch 11/30\n",
      "391/391 [==============================] - 2s 6ms/step - loss: 1.4397 - accuracy: 0.4899 - val_loss: 1.5381 - val_accuracy: 0.4542\n",
      "Epoch 12/30\n",
      "391/391 [==============================] - 2s 5ms/step - loss: 1.4238 - accuracy: 0.4955 - val_loss: 1.5721 - val_accuracy: 0.4474\n",
      "Epoch 13/30\n",
      "391/391 [==============================] - 2s 5ms/step - loss: 1.4056 - accuracy: 0.5006 - val_loss: 1.5496 - val_accuracy: 0.4456\n",
      "Epoch 14/30\n",
      "391/391 [==============================] - 2s 5ms/step - loss: 1.3915 - accuracy: 0.5086 - val_loss: 1.5292 - val_accuracy: 0.4580\n",
      "Epoch 15/30\n",
      "391/391 [==============================] - 2s 6ms/step - loss: 1.3763 - accuracy: 0.5116 - val_loss: 1.4885 - val_accuracy: 0.4766\n",
      "Epoch 16/30\n",
      "391/391 [==============================] - 2s 6ms/step - loss: 1.3672 - accuracy: 0.5161 - val_loss: 1.4821 - val_accuracy: 0.4843\n",
      "Epoch 17/30\n",
      "391/391 [==============================] - 2s 5ms/step - loss: 1.3525 - accuracy: 0.5189 - val_loss: 1.5444 - val_accuracy: 0.4644\n",
      "Epoch 18/30\n",
      "391/391 [==============================] - 2s 5ms/step - loss: 1.3424 - accuracy: 0.5256 - val_loss: 1.4833 - val_accuracy: 0.4790\n",
      "Epoch 19/30\n",
      "391/391 [==============================] - 2s 6ms/step - loss: 1.3312 - accuracy: 0.5289 - val_loss: 1.4786 - val_accuracy: 0.4873\n",
      "Epoch 20/30\n",
      "391/391 [==============================] - 2s 5ms/step - loss: 1.3216 - accuracy: 0.5319 - val_loss: 1.4974 - val_accuracy: 0.4747\n",
      "Epoch 21/30\n",
      "391/391 [==============================] - 2s 5ms/step - loss: 1.3097 - accuracy: 0.5370 - val_loss: 1.5150 - val_accuracy: 0.4667\n",
      "Epoch 22/30\n",
      "391/391 [==============================] - 2s 5ms/step - loss: 1.2990 - accuracy: 0.5385 - val_loss: 1.5217 - val_accuracy: 0.4601\n",
      "Epoch 23/30\n",
      "391/391 [==============================] - 2s 5ms/step - loss: 1.2889 - accuracy: 0.5430 - val_loss: 1.4707 - val_accuracy: 0.4874\n",
      "Epoch 24/30\n",
      "391/391 [==============================] - 2s 5ms/step - loss: 1.2797 - accuracy: 0.5430 - val_loss: 1.4600 - val_accuracy: 0.4895\n",
      "Epoch 25/30\n",
      "391/391 [==============================] - 2s 5ms/step - loss: 1.2736 - accuracy: 0.5498 - val_loss: 1.4610 - val_accuracy: 0.4938\n",
      "Epoch 26/30\n",
      "391/391 [==============================] - 2s 6ms/step - loss: 1.2675 - accuracy: 0.5514 - val_loss: 1.4915 - val_accuracy: 0.4859\n",
      "Epoch 27/30\n",
      "391/391 [==============================] - 2s 5ms/step - loss: 1.2594 - accuracy: 0.5536 - val_loss: 1.4392 - val_accuracy: 0.5061\n",
      "Epoch 28/30\n",
      "391/391 [==============================] - 2s 5ms/step - loss: 1.2458 - accuracy: 0.5595 - val_loss: 1.5148 - val_accuracy: 0.4855\n",
      "Epoch 29/30\n",
      "391/391 [==============================] - 2s 5ms/step - loss: 1.2431 - accuracy: 0.5591 - val_loss: 1.5338 - val_accuracy: 0.4782\n",
      "Epoch 30/30\n",
      "391/391 [==============================] - 2s 5ms/step - loss: 1.2334 - accuracy: 0.5609 - val_loss: 1.4616 - val_accuracy: 0.4977\n",
      "Test loss: 1.4616256952285767\n",
      "Test accuracy: 0.4977000057697296\n"
     ]
    }
   ],
   "source": [
    "model.compile(loss='categorical_crossentropy',\n",
    "              optimizer=RMSprop(),\n",
    "              metrics=['accuracy'])\n",
    "\n",
    "history = model.fit(x_train, y_train,\n",
    "                    batch_size=batch_size,\n",
    "                    epochs=epochs,\n",
    "                    verbose=1,\n",
    "                    validation_data=(x_test, y_test))\n",
    "score = model.evaluate(x_test, y_test, verbose=0)\n",
    "print('Test loss:', score[0])\n",
    "print('Test accuracy:', score[1])"
   ]
  },
  {
   "cell_type": "markdown",
   "id": "a32391dd-941c-4c82-9e2f-33e68dde9fa4",
   "metadata": {},
   "source": [
    "#### Experiments with MLP network"
   ]
  },
  {
   "cell_type": "code",
   "execution_count": 12,
   "id": "d36d82d1-35da-4325-a313-3054a95fceb7",
   "metadata": {},
   "outputs": [],
   "source": [
    "def mlp_models(num_layers=3, arg_dict=arg_dict, dropout=False, dropout_lst=[], optimizer=RMSprop(), batch=128, info=\"\"):\n",
    "    K.clear_session()\n",
    "    print(f\"{info}\")\n",
    "    model = keras.models.Sequential()\n",
    "    model.add(Input(shape=(3072,)))\n",
    "    for i in range(num_layers):\n",
    "        model.add(Dense(arg_dict[i][0], \n",
    "                     activation=arg_dict[i][1], \n",
    "                     kernel_initializer=arg_dict[i][2], \n",
    "                     kernel_regularizer=arg_dict[i][3]))\n",
    "        if dropout and i != (num_layers - 1):\n",
    "            model.add(Dropout(dropout_lst[i]))\n",
    "    model.compile(loss='categorical_crossentropy',\n",
    "                  optimizer=optimizer,\n",
    "                  metrics=['accuracy'])   \n",
    "    \n",
    "    model_checkpoint_callback = tf.keras.callbacks.ModelCheckpoint(\n",
    "        filepath=\"./temp.hdf5\",\n",
    "        save_weights_only=True,\n",
    "        monitor='val_accuracy',\n",
    "        mode='max',\n",
    "        save_best_only=True)\n",
    "    \n",
    "    early_callback = tf.keras.callbacks.EarlyStopping(monitor=\"val_accuracy\", patience=5)\n",
    "    \n",
    "    history = model.fit(x_train, y_train,\n",
    "                    batch_size=batch,\n",
    "                    epochs=50,\n",
    "                    verbose=0,\n",
    "                    validation_split=0.2,\n",
    "                    callbacks=[model_checkpoint_callback, early_callback])\n",
    "    model.load_weights(\"./temp.hdf5\")\n",
    "    score = model.evaluate(x_test, y_test, verbose=0) \n",
    "    print('Test loss:', score[0])\n",
    "    print('Test accuracy:', score[1])\n",
    "    return history.history, score"
   ]
  },
  {
   "cell_type": "markdown",
   "id": "ad42debc-10f8-4655-a736-d48ffb4127dc",
   "metadata": {},
   "source": [
    "##### Top three settings in Fashion MNIST"
   ]
  },
  {
   "cell_type": "code",
   "execution_count": 13,
   "id": "cf49aa75-aa68-4039-b512-4a9173f9226f",
   "metadata": {},
   "outputs": [
    {
     "name": "stdout",
     "output_type": "stream",
     "text": [
      "Top 1\n",
      "Test loss: 1.5320674180984497\n",
      "Test accuracy: 0.45590001344680786\n",
      "Top 2\n",
      "Test loss: 1.4959994554519653\n",
      "Test accuracy: 0.47350001335144043\n",
      "Top 3\n",
      "Test loss: 1.5920538902282715\n",
      "Test accuracy: 0.430400013923645\n"
     ]
    }
   ],
   "source": [
    "arg_dict = [{0: (512, \"relu\", \"glorot_uniform\", None),\n",
    "             1: (10, \"softmax\", \"glorot_uniform\", None),\n",
    "            },\n",
    "            {0: (512, \"relu\", \"glorot_uniform\", None),\n",
    "             1: (10, \"softmax\", \"glorot_uniform\", None),\n",
    "            },\n",
    "            {0: (128, \"relu\", \"glorot_uniform\", None),\n",
    "             1: (10, \"softmax\", \"glorot_uniform\", None),\n",
    "            },\n",
    "           ]\n",
    "dropout_lst = [0.3, None, 0.1]\n",
    "info_lst = [\"Top 1\", \"Top 2\", \"Top 3\"]\n",
    "\n",
    "for trial in range(3):\n",
    "    mlp_models(num_layers=2, arg_dict=arg_dict[trial], dropout=dropout_lst[trial], dropout_lst=[dropout_lst[trial]], \n",
    "               optimizer=RMSprop(), batch=128, info=info_lst[trial])"
   ]
  },
  {
   "cell_type": "markdown",
   "id": "d97a1224-46d5-4e07-ac3d-995b3e86a74a",
   "metadata": {},
   "source": [
    "##### New model: Best settings"
   ]
  },
  {
   "cell_type": "code",
   "execution_count": 16,
   "id": "e83b9a1e-2b37-44c0-bd5d-7a34f5e1d4cb",
   "metadata": {},
   "outputs": [
    {
     "name": "stdout",
     "output_type": "stream",
     "text": [
      "Best model\n",
      "Test loss: 1.4300379753112793\n",
      "Test accuracy: 0.4984999895095825\n"
     ]
    }
   ],
   "source": [
    "arg_dict = {0: (512, \"relu\", \"glorot_uniform\", None),\n",
    "            1: (128, \"relu\", \"glorot_uniform\", None),\n",
    "            2: (32, \"relu\", \"glorot_uniform\", None),\n",
    "            3: (10, \"softmax\", \"glorot_uniform\", None),\n",
    "            }\n",
    "_x, _y = mlp_models(num_layers=4, arg_dict=arg_dict, dropout=True, dropout_lst=[0.1, 0.1, 0.1], optimizer=RMSprop(), batch=128, info=\"Best model\")"
   ]
  },
  {
   "cell_type": "markdown",
   "id": "8b594fbd-691f-41f1-a5e3-2f46864d8e2f",
   "metadata": {},
   "source": [
    "### CIFAR-10 CNN"
   ]
  },
  {
   "cell_type": "markdown",
   "id": "62021dd3-670b-49f1-a02d-dfaa45f3cc3f",
   "metadata": {},
   "source": [
    "#### CNN: Baseline (Example in the textbook)"
   ]
  },
  {
   "cell_type": "code",
   "execution_count": 3,
   "id": "c3ee22b6-c043-4939-b3bc-e98858ca9f14",
   "metadata": {},
   "outputs": [],
   "source": [
    "batch_size = 128\n",
    "num_classes = 10\n",
    "epochs = 30\n",
    "\n",
    "# input image dimensions\n",
    "img_rows, img_cols = 32, 32\n",
    "\n",
    "# the data, split between train and test sets\n",
    "(x_train, y_train), (x_test, y_test) = cifar10.load_data()\n",
    "\n",
    "if K.image_data_format() == 'channels_first':\n",
    "    x_train = x_train.reshape(x_train.shape[0], 3, img_rows, img_cols)\n",
    "    x_test = x_test.reshape(x_test.shape[0], 3, img_rows, img_cols)\n",
    "    input_shape = (1, img_rows, img_cols)\n",
    "else:\n",
    "    x_train = x_train.reshape(x_train.shape[0], img_rows, img_cols, 3)\n",
    "    x_test = x_test.reshape(x_test.shape[0], img_rows, img_cols, 3)\n",
    "    input_shape = (img_rows, img_cols, 3)"
   ]
  },
  {
   "cell_type": "code",
   "execution_count": 4,
   "id": "9821ed81-7aa2-4c25-8107-15011e9a3d58",
   "metadata": {},
   "outputs": [
    {
     "name": "stdout",
     "output_type": "stream",
     "text": [
      "x_train shape: (50000, 32, 32, 3)\n",
      "50000 train samples\n",
      "10000 test samples\n"
     ]
    }
   ],
   "source": [
    "x_train = x_train.astype('float32')\n",
    "x_test = x_test.astype('float32')\n",
    "x_train /= 255\n",
    "x_test /= 255\n",
    "print('x_train shape:', x_train.shape)\n",
    "print(x_train.shape[0], 'train samples')\n",
    "print(x_test.shape[0], 'test samples')\n",
    "\n",
    "# convert class vectors to binary class matrices\n",
    "y_train = keras.utils.to_categorical(y_train, num_classes)\n",
    "y_test = keras.utils.to_categorical(y_test, num_classes)"
   ]
  },
  {
   "cell_type": "code",
   "execution_count": 6,
   "id": "f45a7105-001d-4a05-8700-728620e74d0c",
   "metadata": {},
   "outputs": [
    {
     "name": "stdout",
     "output_type": "stream",
     "text": [
      "Model: \"sequential_1\"\n",
      "_________________________________________________________________\n",
      " Layer (type)                Output Shape              Param #   \n",
      "=================================================================\n",
      " conv2d_5 (Conv2D)           (None, 32, 32, 64)        9472      \n",
      "                                                                 \n",
      " max_pooling2d_3 (MaxPooling  (None, 16, 16, 64)       0         \n",
      " 2D)                                                             \n",
      "                                                                 \n",
      " conv2d_6 (Conv2D)           (None, 16, 16, 128)       73856     \n",
      "                                                                 \n",
      " conv2d_7 (Conv2D)           (None, 16, 16, 128)       147584    \n",
      "                                                                 \n",
      " max_pooling2d_4 (MaxPooling  (None, 8, 8, 128)        0         \n",
      " 2D)                                                             \n",
      "                                                                 \n",
      " conv2d_8 (Conv2D)           (None, 8, 8, 256)         295168    \n",
      "                                                                 \n",
      " conv2d_9 (Conv2D)           (None, 8, 8, 256)         590080    \n",
      "                                                                 \n",
      " max_pooling2d_5 (MaxPooling  (None, 4, 4, 256)        0         \n",
      " 2D)                                                             \n",
      "                                                                 \n",
      " flatten_1 (Flatten)         (None, 4096)              0         \n",
      "                                                                 \n",
      " dense_3 (Dense)             (None, 128)               524416    \n",
      "                                                                 \n",
      " dropout_2 (Dropout)         (None, 128)               0         \n",
      "                                                                 \n",
      " dense_4 (Dense)             (None, 64)                8256      \n",
      "                                                                 \n",
      " dropout_3 (Dropout)         (None, 64)                0         \n",
      "                                                                 \n",
      " dense_5 (Dense)             (None, 10)                650       \n",
      "                                                                 \n",
      "=================================================================\n",
      "Total params: 1,649,482\n",
      "Trainable params: 1,649,482\n",
      "Non-trainable params: 0\n",
      "_________________________________________________________________\n"
     ]
    }
   ],
   "source": [
    "model = keras.models.Sequential([ \n",
    "  keras.layers.Conv2D(64, 7, activation=\"relu\", padding=\"same\", input_shape=[32, 32, 3]),\n",
    "  keras.layers.MaxPooling2D(2),\n",
    "  keras.layers.Conv2D(128, 3, activation=\"relu\", padding=\"same\"),\n",
    "  keras.layers.Conv2D(128, 3, activation=\"relu\", padding=\"same\"), \n",
    "  keras.layers.MaxPooling2D(2), \n",
    "  keras.layers.Conv2D(256, 3, activation=\"relu\", padding=\"same\"), \n",
    "  keras.layers.Conv2D(256, 3, activation=\"relu\", padding=\"same\"), \n",
    "  keras.layers.MaxPooling2D(2), keras.layers.Flatten(),\n",
    "  keras.layers.Dense(128, activation=\"relu\"), \n",
    "  keras.layers.Dropout(0.5), \n",
    "  keras.layers.Dense(64, activation=\"relu\"), \n",
    "  keras.layers.Dropout(0.5),\n",
    "  keras.layers.Dense(10, activation=\"softmax\") ])\n",
    "model.summary()"
   ]
  },
  {
   "cell_type": "code",
   "execution_count": 8,
   "id": "62926ae1-e6c6-4085-84fc-742b4c0e25f2",
   "metadata": {},
   "outputs": [
    {
     "name": "stdout",
     "output_type": "stream",
     "text": [
      "Epoch 1/30\n",
      "391/391 [==============================] - 9s 21ms/step - loss: 1.9602 - accuracy: 0.2721 - val_loss: 1.6550 - val_accuracy: 0.4039\n",
      "Epoch 2/30\n",
      "391/391 [==============================] - 7s 19ms/step - loss: 1.6507 - accuracy: 0.4040 - val_loss: 1.3697 - val_accuracy: 0.5068\n",
      "Epoch 3/30\n",
      "391/391 [==============================] - 7s 19ms/step - loss: 1.4472 - accuracy: 0.4916 - val_loss: 1.2728 - val_accuracy: 0.5440\n",
      "Epoch 4/30\n",
      "391/391 [==============================] - 7s 19ms/step - loss: 1.2858 - accuracy: 0.5533 - val_loss: 1.2393 - val_accuracy: 0.5699\n",
      "Epoch 5/30\n",
      "391/391 [==============================] - 8s 19ms/step - loss: 1.1543 - accuracy: 0.6071 - val_loss: 1.0342 - val_accuracy: 0.6490\n",
      "Epoch 6/30\n",
      "391/391 [==============================] - 7s 19ms/step - loss: 1.0417 - accuracy: 0.6524 - val_loss: 0.9616 - val_accuracy: 0.6756\n",
      "Epoch 7/30\n",
      "391/391 [==============================] - 8s 19ms/step - loss: 0.9627 - accuracy: 0.6822 - val_loss: 1.1122 - val_accuracy: 0.6502\n",
      "Epoch 8/30\n",
      "391/391 [==============================] - 8s 19ms/step - loss: 0.8816 - accuracy: 0.7095 - val_loss: 1.0437 - val_accuracy: 0.6604\n",
      "Epoch 9/30\n",
      "391/391 [==============================] - 7s 19ms/step - loss: 0.8180 - accuracy: 0.7313 - val_loss: 1.0370 - val_accuracy: 0.6822\n",
      "Epoch 10/30\n",
      "391/391 [==============================] - 8s 19ms/step - loss: 0.7668 - accuracy: 0.7513 - val_loss: 1.0131 - val_accuracy: 0.7054\n",
      "Epoch 11/30\n",
      "391/391 [==============================] - 8s 19ms/step - loss: 0.7248 - accuracy: 0.7658 - val_loss: 1.1339 - val_accuracy: 0.6478\n",
      "Epoch 12/30\n",
      "391/391 [==============================] - 7s 19ms/step - loss: 0.6863 - accuracy: 0.7797 - val_loss: 1.1222 - val_accuracy: 0.6970\n",
      "Epoch 13/30\n",
      "391/391 [==============================] - 8s 19ms/step - loss: 0.6626 - accuracy: 0.7889 - val_loss: 1.1298 - val_accuracy: 0.7163\n",
      "Epoch 14/30\n",
      "391/391 [==============================] - 8s 19ms/step - loss: 0.6340 - accuracy: 0.7986 - val_loss: 1.0206 - val_accuracy: 0.6976\n",
      "Epoch 15/30\n",
      "391/391 [==============================] - 8s 19ms/step - loss: 0.6168 - accuracy: 0.8035 - val_loss: 1.3095 - val_accuracy: 0.7222\n",
      "Epoch 16/30\n",
      "391/391 [==============================] - 7s 19ms/step - loss: 0.6155 - accuracy: 0.8071 - val_loss: 1.0102 - val_accuracy: 0.6817\n",
      "Epoch 17/30\n",
      "391/391 [==============================] - 8s 19ms/step - loss: 0.6094 - accuracy: 0.8118 - val_loss: 0.9554 - val_accuracy: 0.6895\n",
      "Epoch 18/30\n",
      "391/391 [==============================] - 8s 19ms/step - loss: 0.6125 - accuracy: 0.8093 - val_loss: 0.9483 - val_accuracy: 0.7084\n",
      "Epoch 19/30\n",
      "391/391 [==============================] - 7s 19ms/step - loss: 0.5920 - accuracy: 0.8142 - val_loss: 1.4186 - val_accuracy: 0.6849\n",
      "Epoch 20/30\n",
      "391/391 [==============================] - 8s 19ms/step - loss: 0.6068 - accuracy: 0.8121 - val_loss: 1.0777 - val_accuracy: 0.7066\n",
      "Epoch 21/30\n",
      "391/391 [==============================] - 7s 19ms/step - loss: 0.6178 - accuracy: 0.8098 - val_loss: 1.1699 - val_accuracy: 0.6916\n",
      "Epoch 22/30\n",
      "391/391 [==============================] - 8s 19ms/step - loss: 0.6165 - accuracy: 0.8098 - val_loss: 1.5326 - val_accuracy: 0.6908\n",
      "Epoch 23/30\n",
      "391/391 [==============================] - 8s 19ms/step - loss: 0.6174 - accuracy: 0.8098 - val_loss: 1.3519 - val_accuracy: 0.7129\n",
      "Epoch 24/30\n",
      "391/391 [==============================] - 7s 19ms/step - loss: 0.6398 - accuracy: 0.8046 - val_loss: 1.2610 - val_accuracy: 0.7130\n",
      "Epoch 25/30\n",
      "391/391 [==============================] - 7s 19ms/step - loss: 0.7428 - accuracy: 0.7979 - val_loss: 1.0766 - val_accuracy: 0.6843\n",
      "Epoch 26/30\n",
      "391/391 [==============================] - 7s 19ms/step - loss: 0.6715 - accuracy: 0.7956 - val_loss: 1.3184 - val_accuracy: 0.7119\n",
      "Epoch 27/30\n",
      "391/391 [==============================] - 8s 19ms/step - loss: 0.6843 - accuracy: 0.7918 - val_loss: 1.7134 - val_accuracy: 0.6652\n",
      "Epoch 28/30\n",
      "391/391 [==============================] - 7s 19ms/step - loss: 0.6801 - accuracy: 0.7929 - val_loss: 1.2276 - val_accuracy: 0.7209\n",
      "Epoch 29/30\n",
      "391/391 [==============================] - 8s 19ms/step - loss: 0.6964 - accuracy: 0.7918 - val_loss: 1.5258 - val_accuracy: 0.7122\n",
      "Epoch 30/30\n",
      "391/391 [==============================] - 8s 19ms/step - loss: 0.7041 - accuracy: 0.7856 - val_loss: 1.5516 - val_accuracy: 0.6478\n",
      "Test loss: 1.5515773296356201\n",
      "Test accuracy: 0.6478000283241272\n"
     ]
    }
   ],
   "source": [
    "model.compile(loss='categorical_crossentropy',\n",
    "              optimizer=RMSprop(),\n",
    "              metrics=['accuracy'])\n",
    "history = model.fit(x_train, y_train,\n",
    "                    batch_size=batch_size,\n",
    "                    epochs=epochs,\n",
    "                    verbose=1,\n",
    "                    validation_data=(x_test, y_test))\n",
    "score = model.evaluate(x_test, y_test, verbose=0)\n",
    "print('Test loss:', score[0])\n",
    "print('Test accuracy:', score[1])"
   ]
  },
  {
   "cell_type": "markdown",
   "id": "70aa8a93-d941-4b43-b6e1-77dfc97fe123",
   "metadata": {},
   "source": [
    "#### Experiments with CNN network"
   ]
  },
  {
   "cell_type": "code",
   "execution_count": 9,
   "id": "669a6fad-3c09-4f6d-a769-272e293f68f6",
   "metadata": {},
   "outputs": [],
   "source": [
    "def cnn_models(filter_set=(32, 64, 128), dropout_set=(0.1, 0.1), optimizer=RMSprop(), info=\"\"):\n",
    "    print(info)\n",
    "    K.clear_session()\n",
    "    model = keras.models.Sequential([ \n",
    "      keras.layers.Conv2D(filter_set[0], 7, activation=\"relu\", padding=\"same\", input_shape=[32, 32, 3]),\n",
    "      keras.layers.MaxPooling2D(2),\n",
    "      keras.layers.Conv2D(filter_set[1], 3, activation=\"relu\", padding=\"same\"),\n",
    "      keras.layers.Conv2D(filter_set[1], 3, activation=\"relu\", padding=\"same\"), \n",
    "      keras.layers.MaxPooling2D(2), \n",
    "      keras.layers.Conv2D(filter_set[2], 3, activation=\"relu\", padding=\"same\"), \n",
    "      keras.layers.Conv2D(filter_set[2], 3, activation=\"relu\", padding=\"same\"), \n",
    "      keras.layers.MaxPooling2D(2), keras.layers.Flatten(),\n",
    "      keras.layers.Dense(128, activation=\"relu\"), \n",
    "      keras.layers.Dropout(dropout_set[0]), \n",
    "      keras.layers.Dense(64, activation=\"relu\"), \n",
    "      keras.layers.Dropout(dropout_set[1]),\n",
    "      keras.layers.Dense(10, activation=\"softmax\") \n",
    "    ])\n",
    "    model_checkpoint_callback = tf.keras.callbacks.ModelCheckpoint(\n",
    "            filepath=\"./temp.hdf5\",\n",
    "            save_weights_only=True,\n",
    "            monitor='val_accuracy',\n",
    "            mode='max',\n",
    "            save_best_only=True\n",
    "    )\n",
    "\n",
    "    early_callback = tf.keras.callbacks.EarlyStopping(monitor=\"val_accuracy\", patience=5)\n",
    "\n",
    "    model.compile(loss='categorical_crossentropy',\n",
    "                  optimizer=optimizer,\n",
    "                  metrics=['accuracy'])\n",
    "    history = model.fit(x_train, y_train,\n",
    "                        batch_size=batch_size,\n",
    "                        epochs=epochs,\n",
    "                        verbose=0,\n",
    "                        validation_split=0.2,\n",
    "                        callbacks=[model_checkpoint_callback, early_callback])\n",
    "    model.load_weights(\"./temp.hdf5\")\n",
    "    score = model.evaluate(x_test, y_test, verbose=0)\n",
    "    print('Test loss:', score[0])\n",
    "    print('Test accuracy:', score[1])\n",
    "    return history, score"
   ]
  },
  {
   "cell_type": "markdown",
   "id": "30fee54e-deb3-4708-b112-b209e97e7a0d",
   "metadata": {},
   "source": [
    "##### Top three settings in Fashion MNIST"
   ]
  },
  {
   "cell_type": "code",
   "execution_count": 10,
   "id": "dd87edd9-6a6f-4217-a4e0-8d8a92cc36fd",
   "metadata": {},
   "outputs": [
    {
     "name": "stdout",
     "output_type": "stream",
     "text": [
      "Top 1\n",
      "Test loss: 0.9998464584350586\n",
      "Test accuracy: 0.6969000101089478\n",
      "Top 2\n",
      "Test loss: 1.0245908498764038\n",
      "Test accuracy: 0.7003999948501587\n",
      "Top 3\n",
      "Test loss: 0.9958972930908203\n",
      "Test accuracy: 0.6801999807357788\n"
     ]
    }
   ],
   "source": [
    "_x, _y = cnn_models(info=\"Top 1\")\n",
    "_x, _y = cnn_models(optimizer=tf.keras.optimizers.Adam(), info=\"Top 2\")\n",
    "_x, _y = cnn_models(dropout_set=(0.5, 0.5), info=\"Top 3\")"
   ]
  },
  {
   "cell_type": "markdown",
   "id": "29a16ac1-6226-4755-9e32-27ad27f8a6ac",
   "metadata": {},
   "source": [
    "##### New model: Best settings"
   ]
  },
  {
   "cell_type": "code",
   "execution_count": 12,
   "id": "c8ba2e7d-6cd9-484b-9c95-af2a128d23c4",
   "metadata": {},
   "outputs": [
    {
     "name": "stdout",
     "output_type": "stream",
     "text": [
      "Best model\n",
      "Test loss: 1.189468502998352\n",
      "Test accuracy: 0.7024000287055969\n"
     ]
    }
   ],
   "source": [
    "_x, _y = cnn_models(filter_set=(64, 128, 256), dropout_set=(0.1, 0.1), optimizer=tf.keras.optimizers.Adam(), info=\"Best model\")"
   ]
  }
 ],
 "metadata": {
  "kernelspec": {
   "display_name": "Python 3 (ipykernel)",
   "language": "python",
   "name": "python3"
  },
  "language_info": {
   "codemirror_mode": {
    "name": "ipython",
    "version": 3
   },
   "file_extension": ".py",
   "mimetype": "text/x-python",
   "name": "python",
   "nbconvert_exporter": "python",
   "pygments_lexer": "ipython3",
   "version": "3.8.10"
  }
 },
 "nbformat": 4,
 "nbformat_minor": 5
}
